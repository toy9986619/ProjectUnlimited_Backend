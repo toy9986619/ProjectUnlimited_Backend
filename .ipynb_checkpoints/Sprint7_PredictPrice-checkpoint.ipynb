{
 "cells": [
  {
   "cell_type": "markdown",
   "metadata": {},
   "source": [
    "# 前置作業"
   ]
  },
  {
   "cell_type": "code",
   "execution_count": 1,
   "metadata": {},
   "outputs": [],
   "source": [
    "import pyspark\n",
    "from pyspark.sql import SparkSession\n",
    "sc = pyspark.SparkContext('local[*]')\n",
    "spark = SparkSession.builder.appName(\"PredictPrice\").getOrCreate()"
   ]
  },
  {
   "cell_type": "code",
   "execution_count": 2,
   "metadata": {},
   "outputs": [],
   "source": [
    "global Path\n",
    "if sc.master[0:5] == \"local\":\n",
    "    Path = \"file:/home/jovyan/work/csvData/\"\n",
    "else:\n",
    "    Path = \"hdfs:/user/zeppelin/csvData/\""
   ]
  },
  {
   "cell_type": "code",
   "execution_count": 4,
   "metadata": {},
   "outputs": [],
   "source": [
    "from operator import add\n",
    "from pyspark.sql.types import StructType, StructField, IntegerType, StringType, DateType, FloatType\n",
    "import time\n",
    "import math\n",
    "import datetime\n",
    "from pyspark.sql.functions import monotonically_increasing_id "
   ]
  },
  {
   "cell_type": "markdown",
   "metadata": {},
   "source": [
    "# 準備資料"
   ]
  },
  {
   "cell_type": "code",
   "execution_count": 5,
   "metadata": {},
   "outputs": [],
   "source": [
    "productSchema = StructType([\n",
    "    StructField(\"product_id\", StringType(), True),\n",
    "    StructField(\"category\", StringType(), True),\n",
    "    StructField(\"name\", StringType(), True),\n",
    "    StructField(\"price\", IntegerType(), True),\n",
    "    StructField(\"sale\", IntegerType(), True),\n",
    "    StructField(\"score\", FloatType(), True),\n",
    "    StructField(\"url\", StringType(), True),\n",
    "    StructField(\"imgurl\", StringType(), True),\n",
    "    StructField(\"update_time\", DateType(), True)])\n",
    "\n",
    "productDf = spark.read.csv(Path+\"3c_product.csv\",header=False,schema=productSchema)"
   ]
  },
  {
   "cell_type": "code",
   "execution_count": 6,
   "metadata": {},
   "outputs": [
    {
     "name": "stdout",
     "output_type": "stream",
     "text": [
      "+----------+--------+--------------------+-----+----+-----+-----------+\n",
      "|product_id|category|                name|price|sale|score|update_time|\n",
      "+----------+--------+--------------------+-----+----+-----+-----------+\n",
      "| 100000238| Apple空機|迪士尼手機殼愛麗絲維尼史迪奇電鍍保...|  299|  -1| -1.0| 2017-12-23|\n",
      "| 100000238| Apple空機|迪士尼手機殼愛麗絲維尼史迪奇電鍍保...|  299|  -1| -1.0| 2017-12-24|\n",
      "| 100000238| Apple空機|迪士尼手機殼愛麗絲維尼史迪奇電鍍保...|  299|  -1| -1.0| 2017-12-25|\n",
      "| 100000238| Apple空機|迪士尼手機殼愛麗絲維尼史迪奇電鍍保...|  299|  -1| -1.0| 2017-12-26|\n",
      "| 100000411| Apple空機|迪士尼手機殼愛麗絲維尼史迪奇電鍍保...|  299|  -1|  5.0| 2017-12-23|\n",
      "+----------+--------+--------------------+-----+----+-----+-----------+\n",
      "only showing top 5 rows\n",
      "\n"
     ]
    }
   ],
   "source": [
    "productDf.select(\"product_id\", \"category\", \"name\", \"price\", \"sale\", \"score\", \"update_time\").show(5)"
   ]
  },
  {
   "cell_type": "code",
   "execution_count": 7,
   "metadata": {},
   "outputs": [
    {
     "name": "stdout",
     "output_type": "stream",
     "text": [
      "+----------+----------+--------------+-----+----+-----+--------------------+--------------------+-----------+\n",
      "|product_id|  category|          name|price|sale|score|                 url|              imgurl|update_time|\n",
      "+----------+----------+--------------+-----+----+-----+--------------------+--------------------+-----------+\n",
      "| 100033527|iPhone充電傳輸|現貨蘋果安卓兩用USB數據線|   99|  -1|  5.0|https://goo.gl/ea...|https://goo.gl/4k...| 2017-12-23|\n",
      "| 100033527|iPhone充電傳輸|現貨蘋果安卓兩用USB數據線|   99|  -1|  5.0|https://goo.gl/ea...|https://goo.gl/4k...| 2017-12-24|\n",
      "| 100033527|iPhone充電傳輸|現貨蘋果安卓兩用USB數據線|   99|  -1|  5.0|https://goo.gl/ea...|https://goo.gl/4k...| 2017-12-25|\n",
      "| 100033527|iPhone充電傳輸|現貨蘋果安卓兩用USB數據線|   99|  -1|  5.0|https://goo.gl/ea...|https://goo.gl/4k...| 2017-12-26|\n",
      "|  10003468|iPhone充電傳輸|    iPhone6手機殼|  250|  -1| -1.0|https://goo.gl/7y...|https://goo.gl/Ss...| 2017-12-23|\n",
      "+----------+----------+--------------+-----+----+-----+--------------------+--------------------+-----------+\n",
      "only showing top 5 rows\n",
      "\n"
     ]
    }
   ],
   "source": [
    "dataDF = productDf.filter('category=\"iPhone充電傳輸\"')\n",
    "dataDF.show(5)"
   ]
  },
  {
   "cell_type": "code",
   "execution_count": 8,
   "metadata": {},
   "outputs": [
    {
     "data": {
      "text/plain": [
       "3479"
      ]
     },
     "execution_count": 8,
     "metadata": {},
     "output_type": "execute_result"
    }
   ],
   "source": [
    "dataDF.count()"
   ]
  },
  {
   "cell_type": "code",
   "execution_count": 10,
   "metadata": {},
   "outputs": [],
   "source": [
    "dataDF = dataDF.filter('sale > 0')"
   ]
  },
  {
   "cell_type": "code",
   "execution_count": 11,
   "metadata": {},
   "outputs": [
    {
     "data": {
      "text/plain": [
       "724"
      ]
     },
     "execution_count": 11,
     "metadata": {},
     "output_type": "execute_result"
    }
   ],
   "source": [
    "dataDF.count()"
   ]
  },
  {
   "cell_type": "code",
   "execution_count": 12,
   "metadata": {},
   "outputs": [
    {
     "name": "stdout",
     "output_type": "stream",
     "text": [
      "+----------+----------+--------------------+-----+----+-----+--------------------+--------------------+-----------+\n",
      "|product_id|  category|                name|price|sale|score|                 url|              imgurl|update_time|\n",
      "+----------+----------+--------------------+-----+----+-----+--------------------+--------------------+-----------+\n",
      "| 100069636|iPhone充電傳輸|rockspace一拖三充電線B款...|  290|   1|  4.9|https://goo.gl/Hh...|https://goo.gl/Sm...| 2017-12-25|\n",
      "| 100069636|iPhone充電傳輸|rockspace一拖三充電線B款...|  290|   1|  4.9|https://goo.gl/Hh...|https://goo.gl/Sm...| 2017-12-26|\n",
      "| 100142268|iPhone充電傳輸|USB數據線充電線適用於iPodS...|   61|   1|  4.8|https://goo.gl/QX...|https://goo.gl/zc...| 2017-12-25|\n",
      "| 100142268|iPhone充電傳輸|USB數據線充電線適用於iPodS...|   61|   1|  4.8|https://goo.gl/QX...|https://goo.gl/zc...| 2017-12-26|\n",
      "| 100206701|iPhone充電傳輸|現貨當天寄出保證原廠apple傳輸...|  250|   3|  4.9|https://goo.gl/vQ...|https://goo.gl/BS...| 2017-12-23|\n",
      "+----------+----------+--------------------+-----+----+-----+--------------------+--------------------+-----------+\n",
      "only showing top 5 rows\n",
      "\n"
     ]
    }
   ],
   "source": [
    "dataDF.show(5)"
   ]
  },
  {
   "cell_type": "code",
   "execution_count": null,
   "metadata": {},
   "outputs": [],
   "source": []
  },
  {
   "cell_type": "markdown",
   "metadata": {},
   "source": [
    "# 第一種資料準備"
   ]
  },
  {
   "cell_type": "code",
   "execution_count": 28,
   "metadata": {},
   "outputs": [],
   "source": [
    "def createDataRDD(data):\n",
    "    price = data[3]\n",
    "    score = round(data[5], 1)\n",
    "    year = str(data[8])[0:4]\n",
    "    month =str(data[8])[5:7]\n",
    "    day = str(data[8])[8:10]\n",
    "    \n",
    "    return (year, month, day, score, price)"
   ]
  },
  {
   "cell_type": "code",
   "execution_count": 29,
   "metadata": {},
   "outputs": [
    {
     "data": {
      "text/plain": [
       "[('2017', '12', '25', 4.9, 290),\n",
       " ('2017', '12', '26', 4.9, 290),\n",
       " ('2017', '12', '25', 4.8, 61),\n",
       " ('2017', '12', '26', 4.8, 61),\n",
       " ('2017', '12', '23', 4.9, 250)]"
      ]
     },
     "execution_count": 29,
     "metadata": {},
     "output_type": "execute_result"
    }
   ],
   "source": [
    "dataRDD = dataDF.rdd.map(createDataRDD)\n",
    "dataRDD.take(5)"
   ]
  },
  {
   "cell_type": "code",
   "execution_count": 30,
   "metadata": {},
   "outputs": [],
   "source": [
    "def extract_label(r):\n",
    "    label = (r[-1])\n",
    "    return label"
   ]
  },
  {
   "cell_type": "code",
   "execution_count": 33,
   "metadata": {},
   "outputs": [
    {
     "name": "stdout",
     "output_type": "stream",
     "text": [
      "(290.0,[2017.0,12.0,25.0,4.9,290.0])\n"
     ]
    }
   ],
   "source": [
    "from pyspark.mllib.regression import LabeledPoint\n",
    "labelpointRDD = dataRDD.map(lambda r:\n",
    "    LabeledPoint(\n",
    "        extract_label(r),\n",
    "        r\n",
    "    ))\n",
    "\n",
    "print(labelpointRDD.first())"
   ]
  },
  {
   "cell_type": "code",
   "execution_count": 34,
   "metadata": {},
   "outputs": [],
   "source": [
    "(trainData, validationData, testData) = labelpointRDD.randomSplit([8, 1, 1])"
   ]
  },
  {
   "cell_type": "code",
   "execution_count": 35,
   "metadata": {},
   "outputs": [
    {
     "data": {
      "text/plain": [
       "576"
      ]
     },
     "execution_count": 35,
     "metadata": {},
     "output_type": "execute_result"
    }
   ],
   "source": [
    "trainData.count()"
   ]
  },
  {
   "cell_type": "markdown",
   "metadata": {},
   "source": [
    "# 第二種資料準備"
   ]
  },
  {
   "cell_type": "code",
   "execution_count": 84,
   "metadata": {},
   "outputs": [],
   "source": [
    "def createData2RDD(data):\n",
    "    price = data[3]\n",
    "    score = round(data[5], 1)\n",
    "    month =str(data[8])[5:7]\n",
    "    day = str(data[8])[8:10]\n",
    "    \n",
    "    return (month, day, score, price)"
   ]
  },
  {
   "cell_type": "code",
   "execution_count": 85,
   "metadata": {},
   "outputs": [
    {
     "data": {
      "text/plain": [
       "[('12', '25', 4.9, 290),\n",
       " ('12', '26', 4.9, 290),\n",
       " ('12', '25', 4.8, 61),\n",
       " ('12', '26', 4.8, 61),\n",
       " ('12', '23', 4.9, 250)]"
      ]
     },
     "execution_count": 85,
     "metadata": {},
     "output_type": "execute_result"
    }
   ],
   "source": [
    "data2RDD = dataDF.rdd.map(createData2RDD)\n",
    "data2RDD.take(5)"
   ]
  },
  {
   "cell_type": "code",
   "execution_count": 86,
   "metadata": {},
   "outputs": [],
   "source": [
    "def extract_label(r):\n",
    "    label = (r[-1])\n",
    "    return label"
   ]
  },
  {
   "cell_type": "code",
   "execution_count": 91,
   "metadata": {},
   "outputs": [],
   "source": [
    "def extract_features(r):\n",
    "    r = r[0:3]\n",
    "    return r"
   ]
  },
  {
   "cell_type": "code",
   "execution_count": 92,
   "metadata": {},
   "outputs": [
    {
     "name": "stdout",
     "output_type": "stream",
     "text": [
      "(290.0,[12.0,25.0,4.9])\n"
     ]
    }
   ],
   "source": [
    "labelpoint2RDD = data2RDD.map(lambda r:\n",
    "    LabeledPoint(\n",
    "        extract_label(r),\n",
    "        extract_features(r)\n",
    "    ))\n",
    "\n",
    "print(labelpoint2RDD.first())"
   ]
  },
  {
   "cell_type": "code",
   "execution_count": 95,
   "metadata": {},
   "outputs": [],
   "source": [
    "(train2Data, validation2Data, test2Data) = labelpoint2RDD.randomSplit([8, 1, 1])"
   ]
  },
  {
   "cell_type": "code",
   "execution_count": 124,
   "metadata": {},
   "outputs": [
    {
     "data": {
      "text/plain": [
       "[LabeledPoint(290.0, [12.0,25.0,4.9]),\n",
       " LabeledPoint(290.0, [12.0,26.0,4.9]),\n",
       " LabeledPoint(61.0, [12.0,25.0,4.8]),\n",
       " LabeledPoint(61.0, [12.0,26.0,4.8]),\n",
       " LabeledPoint(250.0, [12.0,23.0,4.9])]"
      ]
     },
     "execution_count": 124,
     "metadata": {},
     "output_type": "execute_result"
    }
   ],
   "source": [
    "train2Data.take(5)"
   ]
  },
  {
   "cell_type": "code",
   "execution_count": 125,
   "metadata": {},
   "outputs": [
    {
     "data": {
      "text/plain": [
       "[LabeledPoint(49.0, [12.0,24.0,5.0]),\n",
       " LabeledPoint(199.0, [12.0,23.0,4.4]),\n",
       " LabeledPoint(4.0, [12.0,23.0,5.0]),\n",
       " LabeledPoint(269.0, [12.0,23.0,4.8]),\n",
       " LabeledPoint(75.0, [12.0,25.0,5.0])]"
      ]
     },
     "execution_count": 125,
     "metadata": {},
     "output_type": "execute_result"
    }
   ],
   "source": [
    "validation2Data.take(5)"
   ]
  },
  {
   "cell_type": "markdown",
   "metadata": {},
   "source": [
    "# 第三種資料準備"
   ]
  },
  {
   "cell_type": "code",
   "execution_count": 69,
   "metadata": {},
   "outputs": [
    {
     "data": {
      "text/plain": [
       "[('100069636', 290, 1, 4.900000095367432, datetime.date(2017, 12, 25)),\n",
       " ('100069636', 290, 1, 4.900000095367432, datetime.date(2017, 12, 26)),\n",
       " ('100142268', 61, 1, 4.800000190734863, datetime.date(2017, 12, 25)),\n",
       " ('100142268', 61, 1, 4.800000190734863, datetime.date(2017, 12, 26)),\n",
       " ('100206701', 250, 3, 4.900000095367432, datetime.date(2017, 12, 23))]"
      ]
     },
     "execution_count": 69,
     "metadata": {},
     "output_type": "execute_result"
    }
   ],
   "source": [
    "data3RDD = dataDF.rdd.map(lambda x: (x[0], x[3], x[4], x[5], x[8]))\n",
    "data3RDD.take(5)"
   ]
  },
  {
   "cell_type": "code",
   "execution_count": 71,
   "metadata": {},
   "outputs": [
    {
     "data": {
      "text/plain": [
       "['100069636', '10022757', '100252125', '100299841', '100319526']"
      ]
     },
     "execution_count": 71,
     "metadata": {},
     "output_type": "execute_result"
    }
   ],
   "source": [
    "data3IdRDD = dataDF.rdd.map(lambda x: x[0]).distinct()\n",
    "data3IdRDD.take(5)"
   ]
  },
  {
   "cell_type": "code",
   "execution_count": null,
   "metadata": {},
   "outputs": [],
   "source": [
    "\n",
    "    "
   ]
  },
  {
   "cell_type": "markdown",
   "metadata": {},
   "source": [
    "# Model 訓練"
   ]
  },
  {
   "cell_type": "code",
   "execution_count": 108,
   "metadata": {},
   "outputs": [],
   "source": [
    "from pyspark.mllib.tree import DecisionTree\n",
    "\n",
    "def trainModel(trainData, validationData, impurityParm, maxDepthParm, maxBinsParm):\n",
    "    startTime = time.time()\n",
    "    model = DecisionTree.trainRegressor(trainData, \n",
    "                                        categoricalFeaturesInfo={}, \\\n",
    "                                        impurity=impurityParm,\n",
    "                                        maxDepth=maxDepthParm,\n",
    "                                        maxBins=maxBinsParm\n",
    "                                       )\n",
    "    (RMSE, score) = evaluateModel(model, validationData)\n",
    "    duration = time.time() - startTime\n",
    "    \n",
    "    print( \"訓練評估：使用參數\"+ \\\n",
    "           \" impurityParm=%s\"%impurityParm+ \\\n",
    "           \" maxDepthParm=%s\"%maxDepthParm+ \\\n",
    "           \" maxBinsParm=%s\"%maxBinsParm+ \\\n",
    "           \" 所需時間=%d\"%duration+ \\\n",
    "           \" RMSE = %f\"%RMSE\n",
    "         )\n",
    "    \n",
    "    return (RMSE, duration, impurityParm, maxDepthParm, maxBinsParm, model)"
   ]
  },
  {
   "cell_type": "code",
   "execution_count": 114,
   "metadata": {},
   "outputs": [],
   "source": [
    "def trainModel2(trainData, validationData, impurityParm, maxDepthParm, maxBinsParm):\n",
    "    startTime = time.time()\n",
    "    model = DecisionTree.trainRegressor(trainData, \n",
    "                                        categoricalFeaturesInfo={}, \\\n",
    "                                        impurity=impurityParm,\n",
    "                                        maxDepth=maxDepthParm,\n",
    "                                        maxBins=maxBinsParm\n",
    "                                       )\n",
    "    (RMSE, score) = evaluateModel(model, validationData)\n",
    "    duration = time.time() - startTime\n",
    "    \n",
    "    print( \"訓練評估：使用參數\"+ \\\n",
    "           \" impurityParm=%s\"%impurityParm+ \\\n",
    "           \" maxDepthParm=%s\"%maxDepthParm+ \\\n",
    "           \" maxBinsParm=%s\"%maxBinsParm+ \\\n",
    "           \" 所需時間=%d\"%duration+ \\\n",
    "           \" RMSE = %f\"%RMSE\n",
    "         )\n",
    "    \n",
    "    return (score, model)"
   ]
  },
  {
   "cell_type": "code",
   "execution_count": 50,
   "metadata": {},
   "outputs": [],
   "source": [
    "from pyspark.mllib.evaluation import RegressionMetrics\n",
    "\n",
    "def evaluateModel(model, validationData):\n",
    "    score = model.predict(validationData.map(lambda p: p.features))\n",
    "    scoreAndLabels = score.zip(validationData.map(lambda p: p.label))\n",
    "    metrics = RegressionMetrics(scoreAndLabels)\n",
    "    RMSE = metrics.rootMeanSquaredError\n",
    "    return (RMSE, score)"
   ]
  },
  {
   "cell_type": "code",
   "execution_count": 145,
   "metadata": {},
   "outputs": [],
   "source": [
    "def evalAllParameter(trainRDD, validationRDD, impurityList, maxDepthList, maxBinsList):\n",
    "    metrics = [trainModel(trainData, validationData, impurity, maxdepth, maxBins)\n",
    "        for impurity in impurityList\n",
    "        for maxdepth in maxDepthList\n",
    "        for maxBins in maxBinsList] \n",
    "    Smetrics = sorted(metrics, key=lambda k:k[0])\n",
    "    bestParameter = Smetrics[0]\n",
    "    \n",
    "    print(\"最佳參數: \")\n",
    "    print(\"impurity:\" + str(bestParameter[2]))\n",
    "    print(\"maxDepth:\" + str(bestParameter[3]))\n",
    "    print(\"maxBins:\" + str(bestParameter[4]))\n",
    "    print(\"RMSE:\" + str(bestParameter[0]))\n",
    "    \n",
    "    return bestParameter[5]"
   ]
  },
  {
   "cell_type": "markdown",
   "metadata": {},
   "source": [
    "# 測試data 1"
   ]
  },
  {
   "cell_type": "code",
   "execution_count": 98,
   "metadata": {},
   "outputs": [
    {
     "name": "stdout",
     "output_type": "stream",
     "text": [
      "訓練評估：使用參數impurityParm=variancemaxDepthParm=10maxBinsParm=100所需時間=2RMSE = 34.668808\n"
     ]
    }
   ],
   "source": [
    "(score, model) = trainModel(trainData, validationData, \"variance\", 10, 100)"
   ]
  },
  {
   "cell_type": "code",
   "execution_count": 49,
   "metadata": {},
   "outputs": [
    {
     "data": {
      "text/plain": [
       "DenseVector([2017.0, 12.0, 24.0, 4.9, 250.0])"
      ]
     },
     "execution_count": 49,
     "metadata": {},
     "output_type": "execute_result"
    }
   ],
   "source": [
    "validationData.take(5)[0].features"
   ]
  },
  {
   "cell_type": "code",
   "execution_count": 54,
   "metadata": {},
   "outputs": [
    {
     "data": {
      "text/plain": [
       "[250.0]"
      ]
     },
     "execution_count": 54,
     "metadata": {},
     "output_type": "execute_result"
    }
   ],
   "source": [
    "score.take(1)"
   ]
  },
  {
   "cell_type": "markdown",
   "metadata": {},
   "source": [
    "# 測試data 2"
   ]
  },
  {
   "cell_type": "code",
   "execution_count": 102,
   "metadata": {},
   "outputs": [],
   "source": [
    "def evaluate2model(model, validationData):\n",
    "    score = model.predict(validationData.map(lambda p: p.features))\n",
    "    scoreAndLabels = score.zip(validationData.map(lambda p: p.label))\n",
    "    metrics = RegressionMetrics(scoreAndLabels)\n",
    "    RMSE = metrics.rootMeanSquaredError\n",
    "    return (RMSE, score)"
   ]
  },
  {
   "cell_type": "code",
   "execution_count": 134,
   "metadata": {
    "scrolled": true
   },
   "outputs": [
    {
     "name": "stdout",
     "output_type": "stream",
     "text": [
      "訓練評估：使用參數 impurityParm=variance maxDepthParm=10 maxBinsParm=200 所需時間=2 RMSE = 191.595483\n"
     ]
    }
   ],
   "source": [
    "(score2, model2) = trainModel2(train2Data, validation2Data, \"variance\", 10, 200)"
   ]
  },
  {
   "cell_type": "code",
   "execution_count": 135,
   "metadata": {},
   "outputs": [
    {
     "data": {
      "text/plain": [
       "9"
      ]
     },
     "execution_count": 135,
     "metadata": {},
     "output_type": "execute_result"
    }
   ],
   "source": [
    "model2.depth()"
   ]
  },
  {
   "cell_type": "code",
   "execution_count": 136,
   "metadata": {},
   "outputs": [
    {
     "data": {
      "text/plain": [
       "75"
      ]
     },
     "execution_count": 136,
     "metadata": {},
     "output_type": "execute_result"
    }
   ],
   "source": [
    "model2.numNodes()"
   ]
  },
  {
   "cell_type": "code",
   "execution_count": null,
   "metadata": {},
   "outputs": [],
   "source": [
    "model2.predict(testRDD.map(lambda p: p.features)).take(1)"
   ]
  },
  {
   "cell_type": "code",
   "execution_count": 143,
   "metadata": {},
   "outputs": [],
   "source": [
    "def tryModel(trainRDD, validationRDD, impurityList, maxDepthList, maxBinsList):\n",
    "    [trainModel2(train2Data, validation2Data, impurity, maxdepth, maxBins)\n",
    "        for impurity in impurityList\n",
    "        for maxdepth in maxDepthList\n",
    "        for maxBins in maxBinsList] "
   ]
  },
  {
   "cell_type": "code",
   "execution_count": 144,
   "metadata": {},
   "outputs": [
    {
     "name": "stdout",
     "output_type": "stream",
     "text": [
      "訓練評估：使用參數 impurityParm=variance maxDepthParm=3 maxBinsParm=3 所需時間=2 RMSE = 156.944856\n",
      "訓練評估：使用參數 impurityParm=variance maxDepthParm=3 maxBinsParm=5 所需時間=2 RMSE = 156.886495\n",
      "訓練評估：使用參數 impurityParm=variance maxDepthParm=3 maxBinsParm=10 所需時間=1 RMSE = 156.886495\n",
      "訓練評估：使用參數 impurityParm=variance maxDepthParm=3 maxBinsParm=50 所需時間=1 RMSE = 156.881430\n",
      "訓練評估：使用參數 impurityParm=variance maxDepthParm=3 maxBinsParm=100 所需時間=2 RMSE = 156.881430\n",
      "訓練評估：使用參數 impurityParm=variance maxDepthParm=3 maxBinsParm=200 所需時間=2 RMSE = 156.881430\n",
      "訓練評估：使用參數 impurityParm=variance maxDepthParm=5 maxBinsParm=3 所需時間=1 RMSE = 156.944856\n",
      "訓練評估：使用參數 impurityParm=variance maxDepthParm=5 maxBinsParm=5 所需時間=1 RMSE = 155.926716\n",
      "訓練評估：使用參數 impurityParm=variance maxDepthParm=5 maxBinsParm=10 所需時間=1 RMSE = 159.480387\n",
      "訓練評估：使用參數 impurityParm=variance maxDepthParm=5 maxBinsParm=50 所需時間=1 RMSE = 164.763956\n",
      "訓練評估：使用參數 impurityParm=variance maxDepthParm=5 maxBinsParm=100 所需時間=1 RMSE = 164.763956\n",
      "訓練評估：使用參數 impurityParm=variance maxDepthParm=5 maxBinsParm=200 所需時間=1 RMSE = 164.763956\n",
      "訓練評估：使用參數 impurityParm=variance maxDepthParm=10 maxBinsParm=3 所需時間=1 RMSE = 156.944856\n",
      "訓練評估：使用參數 impurityParm=variance maxDepthParm=10 maxBinsParm=5 所需時間=1 RMSE = 155.926716\n",
      "訓練評估：使用參數 impurityParm=variance maxDepthParm=10 maxBinsParm=10 所需時間=1 RMSE = 162.777361\n",
      "訓練評估：使用參數 impurityParm=variance maxDepthParm=10 maxBinsParm=50 所需時間=1 RMSE = 191.595483\n",
      "訓練評估：使用參數 impurityParm=variance maxDepthParm=10 maxBinsParm=100 所需時間=1 RMSE = 191.595483\n",
      "訓練評估：使用參數 impurityParm=variance maxDepthParm=10 maxBinsParm=200 所需時間=2 RMSE = 191.595483\n",
      "訓練評估：使用參數 impurityParm=variance maxDepthParm=15 maxBinsParm=3 所需時間=2 RMSE = 156.944856\n",
      "訓練評估：使用參數 impurityParm=variance maxDepthParm=15 maxBinsParm=5 所需時間=1 RMSE = 155.926716\n",
      "訓練評估：使用參數 impurityParm=variance maxDepthParm=15 maxBinsParm=10 所需時間=1 RMSE = 162.777361\n",
      "訓練評估：使用參數 impurityParm=variance maxDepthParm=15 maxBinsParm=50 所需時間=2 RMSE = 191.595483\n",
      "訓練評估：使用參數 impurityParm=variance maxDepthParm=15 maxBinsParm=100 所需時間=1 RMSE = 191.595483\n",
      "訓練評估：使用參數 impurityParm=variance maxDepthParm=15 maxBinsParm=200 所需時間=1 RMSE = 191.595483\n",
      "訓練評估：使用參數 impurityParm=variance maxDepthParm=20 maxBinsParm=3 所需時間=2 RMSE = 156.944856\n",
      "訓練評估：使用參數 impurityParm=variance maxDepthParm=20 maxBinsParm=5 所需時間=1 RMSE = 155.926716\n",
      "訓練評估：使用參數 impurityParm=variance maxDepthParm=20 maxBinsParm=10 所需時間=2 RMSE = 162.777361\n",
      "訓練評估：使用參數 impurityParm=variance maxDepthParm=20 maxBinsParm=50 所需時間=2 RMSE = 191.595483\n",
      "訓練評估：使用參數 impurityParm=variance maxDepthParm=20 maxBinsParm=100 所需時間=2 RMSE = 191.595483\n",
      "訓練評估：使用參數 impurityParm=variance maxDepthParm=20 maxBinsParm=200 所需時間=1 RMSE = 191.595483\n",
      "訓練評估：使用參數 impurityParm=variance maxDepthParm=25 maxBinsParm=3 所需時間=1 RMSE = 156.944856\n",
      "訓練評估：使用參數 impurityParm=variance maxDepthParm=25 maxBinsParm=5 所需時間=1 RMSE = 155.926716\n",
      "訓練評估：使用參數 impurityParm=variance maxDepthParm=25 maxBinsParm=10 所需時間=1 RMSE = 162.777361\n",
      "訓練評估：使用參數 impurityParm=variance maxDepthParm=25 maxBinsParm=50 所需時間=2 RMSE = 191.595483\n",
      "訓練評估：使用參數 impurityParm=variance maxDepthParm=25 maxBinsParm=100 所需時間=1 RMSE = 191.595483\n",
      "訓練評估：使用參數 impurityParm=variance maxDepthParm=25 maxBinsParm=200 所需時間=2 RMSE = 191.595483\n"
     ]
    }
   ],
   "source": [
    "tryModel(train2Data, validation2Data, [\"variance\"], [3, 5, 10, 15, 20, 25], [3, 5, 10, 50, 100, 200])"
   ]
  },
  {
   "cell_type": "code",
   "execution_count": 146,
   "metadata": {},
   "outputs": [
    {
     "name": "stdout",
     "output_type": "stream",
     "text": [
      "訓練評估：使用參數 impurityParm=variance maxDepthParm=3 maxBinsParm=3 所需時間=2 RMSE = 130.950588\n",
      "訓練評估：使用參數 impurityParm=variance maxDepthParm=3 maxBinsParm=5 所需時間=2 RMSE = 125.133881\n",
      "訓練評估：使用參數 impurityParm=variance maxDepthParm=3 maxBinsParm=10 所需時間=1 RMSE = 114.186917\n",
      "訓練評估：使用參數 impurityParm=variance maxDepthParm=3 maxBinsParm=50 所需時間=2 RMSE = 117.329505\n",
      "訓練評估：使用參數 impurityParm=variance maxDepthParm=3 maxBinsParm=100 所需時間=1 RMSE = 53.407289\n",
      "訓練評估：使用參數 impurityParm=variance maxDepthParm=3 maxBinsParm=200 所需時間=2 RMSE = 48.844097\n",
      "訓練評估：使用參數 impurityParm=variance maxDepthParm=5 maxBinsParm=3 所需時間=1 RMSE = 131.352081\n",
      "訓練評估：使用參數 impurityParm=variance maxDepthParm=5 maxBinsParm=5 所需時間=1 RMSE = 126.171582\n",
      "訓練評估：使用參數 impurityParm=variance maxDepthParm=5 maxBinsParm=10 所需時間=1 RMSE = 111.725905\n",
      "訓練評估：使用參數 impurityParm=variance maxDepthParm=5 maxBinsParm=50 所需時間=1 RMSE = 106.528881\n",
      "訓練評估：使用參數 impurityParm=variance maxDepthParm=5 maxBinsParm=100 所需時間=1 RMSE = 36.055280\n",
      "訓練評估：使用參數 impurityParm=variance maxDepthParm=5 maxBinsParm=200 所需時間=1 RMSE = 10.383646\n",
      "訓練評估：使用參數 impurityParm=variance maxDepthParm=10 maxBinsParm=3 所需時間=1 RMSE = 131.352081\n",
      "訓練評估：使用參數 impurityParm=variance maxDepthParm=10 maxBinsParm=5 所需時間=1 RMSE = 126.099310\n",
      "訓練評估：使用參數 impurityParm=variance maxDepthParm=10 maxBinsParm=10 所需時間=2 RMSE = 111.839025\n",
      "訓練評估：使用參數 impurityParm=variance maxDepthParm=10 maxBinsParm=50 所需時間=1 RMSE = 106.129323\n",
      "訓練評估：使用參數 impurityParm=variance maxDepthParm=10 maxBinsParm=100 所需時間=1 RMSE = 34.668808\n",
      "訓練評估：使用參數 impurityParm=variance maxDepthParm=10 maxBinsParm=200 所需時間=1 RMSE = 6.045401\n",
      "訓練評估：使用參數 impurityParm=variance maxDepthParm=15 maxBinsParm=3 所需時間=2 RMSE = 131.352081\n",
      "訓練評估：使用參數 impurityParm=variance maxDepthParm=15 maxBinsParm=5 所需時間=2 RMSE = 126.099310\n",
      "訓練評估：使用參數 impurityParm=variance maxDepthParm=15 maxBinsParm=10 所需時間=2 RMSE = 111.839025\n",
      "訓練評估：使用參數 impurityParm=variance maxDepthParm=15 maxBinsParm=50 所需時間=1 RMSE = 106.136017\n",
      "訓練評估：使用參數 impurityParm=variance maxDepthParm=15 maxBinsParm=100 所需時間=2 RMSE = 34.670210\n",
      "訓練評估：使用參數 impurityParm=variance maxDepthParm=15 maxBinsParm=200 所需時間=1 RMSE = 6.045401\n",
      "訓練評估：使用參數 impurityParm=variance maxDepthParm=20 maxBinsParm=3 所需時間=1 RMSE = 131.352081\n",
      "訓練評估：使用參數 impurityParm=variance maxDepthParm=20 maxBinsParm=5 所需時間=1 RMSE = 126.099310\n",
      "訓練評估：使用參數 impurityParm=variance maxDepthParm=20 maxBinsParm=10 所需時間=2 RMSE = 111.839025\n",
      "訓練評估：使用參數 impurityParm=variance maxDepthParm=20 maxBinsParm=50 所需時間=1 RMSE = 106.136017\n",
      "訓練評估：使用參數 impurityParm=variance maxDepthParm=20 maxBinsParm=100 所需時間=1 RMSE = 34.670210\n",
      "訓練評估：使用參數 impurityParm=variance maxDepthParm=20 maxBinsParm=200 所需時間=2 RMSE = 6.045401\n",
      "訓練評估：使用參數 impurityParm=variance maxDepthParm=25 maxBinsParm=3 所需時間=1 RMSE = 131.352081\n",
      "訓練評估：使用參數 impurityParm=variance maxDepthParm=25 maxBinsParm=5 所需時間=1 RMSE = 126.099310\n",
      "訓練評估：使用參數 impurityParm=variance maxDepthParm=25 maxBinsParm=10 所需時間=2 RMSE = 111.839025\n",
      "訓練評估：使用參數 impurityParm=variance maxDepthParm=25 maxBinsParm=50 所需時間=2 RMSE = 106.136017\n",
      "訓練評估：使用參數 impurityParm=variance maxDepthParm=25 maxBinsParm=100 所需時間=2 RMSE = 34.670210\n",
      "訓練評估：使用參數 impurityParm=variance maxDepthParm=25 maxBinsParm=200 所需時間=2 RMSE = 6.045401\n",
      "最佳參數: \n",
      "impurity:variance\n",
      "maxDepth:10\n",
      "maxBins:200\n",
      "RMSE:6.045401144671874\n"
     ]
    }
   ],
   "source": [
    "bestModel = evalAllParameter(train2Data, validation2Data, [\"variance\"], [3, 5, 10, 15, 20, 25], [3, 5, 10, 50, 100, 200])"
   ]
  },
  {
   "cell_type": "code",
   "execution_count": null,
   "metadata": {},
   "outputs": [],
   "source": [
    "(score, bestTestModel2) = trainModel2(train2Data, validation2Data, \"variance\", 5, 5)"
   ]
  },
  {
   "cell_type": "code",
   "execution_count": null,
   "metadata": {},
   "outputs": [],
   "source": [
    "#--------------預測與結果----------------\n"
   ]
  },
  {
   "cell_type": "code",
   "execution_count": 113,
   "metadata": {
    "scrolled": true
   },
   "outputs": [
    {
     "data": {
      "text/plain": [
       "[1.0]"
      ]
     },
     "execution_count": 113,
     "metadata": {},
     "output_type": "execute_result"
    }
   ],
   "source": [
    "bestModel.predict(testRDD.map(lambda p: p.features)).take(1)"
   ]
  },
  {
   "cell_type": "code",
   "execution_count": 126,
   "metadata": {},
   "outputs": [
    {
     "data": {
      "text/plain": [
       "10"
      ]
     },
     "execution_count": 126,
     "metadata": {},
     "output_type": "execute_result"
    }
   ],
   "source": [
    "bestModel.depth()"
   ]
  },
  {
   "cell_type": "code",
   "execution_count": 127,
   "metadata": {},
   "outputs": [
    {
     "data": {
      "text/plain": [
       "353"
      ]
     },
     "execution_count": 127,
     "metadata": {},
     "output_type": "execute_result"
    }
   ],
   "source": [
    "bestModel.numNodes()"
   ]
  },
  {
   "cell_type": "code",
   "execution_count": null,
   "metadata": {},
   "outputs": [],
   "source": []
  },
  {
   "cell_type": "code",
   "execution_count": 55,
   "metadata": {},
   "outputs": [
    {
     "data": {
      "text/plain": [
       "200"
      ]
     },
     "execution_count": 55,
     "metadata": {},
     "output_type": "execute_result"
    }
   ],
   "source": [
    "dataDF.select(\"price\").distinct().count()"
   ]
  },
  {
   "cell_type": "code",
   "execution_count": 78,
   "metadata": {},
   "outputs": [],
   "source": [
    "testRDD = labelpointRDD = dataRDD.map(lambda r:\n",
    "    LabeledPoint(\n",
    "        0,\n",
    "        (2017, 12, 24, 4.9, 0)\n",
    "    ))\n"
   ]
  },
  {
   "cell_type": "code",
   "execution_count": 79,
   "metadata": {},
   "outputs": [
    {
     "data": {
      "text/plain": [
       "DenseVector([2017.0, 12.0, 24.0, 4.9, 0.0])"
      ]
     },
     "execution_count": 79,
     "metadata": {},
     "output_type": "execute_result"
    }
   ],
   "source": [
    "testRDD.take(1)[0].features"
   ]
  },
  {
   "cell_type": "code",
   "execution_count": 80,
   "metadata": {},
   "outputs": [
    {
     "data": {
      "text/plain": [
       "[1.0]"
      ]
     },
     "execution_count": 80,
     "metadata": {},
     "output_type": "execute_result"
    }
   ],
   "source": [
    "model.predict(testRDD.map(lambda p: p.features)).take(1)"
   ]
  },
  {
   "cell_type": "code",
   "execution_count": null,
   "metadata": {},
   "outputs": [],
   "source": []
  },
  {
   "cell_type": "code",
   "execution_count": 105,
   "metadata": {},
   "outputs": [],
   "source": [
    "def parametersEval(trainingRDD, validationRDD):\n",
    "    evalParameter(trainingRDD, validationRDD, \"maxDepth\",\n",
    "                    impurityList=[\"variance\"],\n",
    "                    maxDepthList=[3, 5, 10, 15, 20, 25],\n",
    "                    maxBinsList=[10])\n",
    "    \n",
    "    evalParameter(trainingRDD, validationRDD, \"maxBins\",\n",
    "                    impurityList=[\"variance\"],\n",
    "                    maxDepthList=[10],\n",
    "                    maxBinsList=[3, 5, 10, 50, 100, 200])\n",
    "    "
   ]
  },
  {
   "cell_type": "code",
   "execution_count": null,
   "metadata": {},
   "outputs": [],
   "source": [
    "def evalParameter(trainData, validationData, evaparm, impurityList, maxDepthList, maxBinsList):\n",
    "    metrics = [trainModel(trainData, validationData, impurity, maxdepth, maxBins)\n",
    "                  for impurity in impurityList\n",
    "                  for maxdepth in maxDepthList\n",
    "                  for maxBins in maxBinsList ]\n",
    "    if evaparm == \"impurity\":\n",
    "        IndexList = impurityList[:]\n",
    "    elif evaparm == \"maxDepth\":\n",
    "        IndexList = maxDepthList[:]\n",
    "    elif evaparm == \"maxBins\":\n",
    "        IndexList = maxBinsList[:]\n",
    "    \n",
    "    df = pd.DataFram(metrics, index=IndexList,\n",
    "                    columns=['RMSE', 'duration', 'impurityParm', 'maxDepthParm', 'maxBinsParm', 'model'])\n",
    "    ax = df['RMSE'.plot(kind=\"bar\")]"
   ]
  }
 ],
 "metadata": {
  "kernelspec": {
   "display_name": "Python 3",
   "language": "python",
   "name": "python3"
  },
  "language_info": {
   "codemirror_mode": {
    "name": "ipython",
    "version": 3
   },
   "file_extension": ".py",
   "mimetype": "text/x-python",
   "name": "python",
   "nbconvert_exporter": "python",
   "pygments_lexer": "ipython3",
   "version": "3.6.3"
  }
 },
 "nbformat": 4,
 "nbformat_minor": 2
}
