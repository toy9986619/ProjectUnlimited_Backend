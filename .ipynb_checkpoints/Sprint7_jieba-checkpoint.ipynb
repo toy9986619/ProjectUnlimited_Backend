{
 "cells": [
  {
   "cell_type": "code",
   "execution_count": 1,
   "metadata": {},
   "outputs": [],
   "source": [
    "import pyspark\n",
    "from pyspark.sql import SparkSession\n",
    "sc = pyspark.SparkContext('local[*]')\n",
    "spark = SparkSession.builder.appName(\"PredictPrice\").getOrCreate()"
   ]
  },
  {
   "cell_type": "code",
   "execution_count": 2,
   "metadata": {},
   "outputs": [],
   "source": [
    "global Path\n",
    "if sc.master[0:5] == \"local\":\n",
    "    Path = \"file:/home/jovyan/work/csvData/\"\n",
    "else:\n",
    "    Path = \"hdfs:/user/zeppelin/csvData/\""
   ]
  },
  {
   "cell_type": "code",
   "execution_count": 169,
   "metadata": {},
   "outputs": [],
   "source": [
    "from operator import add\n",
    "from pyspark.sql.types import StructType, StructField, IntegerType, StringType, DateType, FloatType\n",
    "import time\n",
    "import math\n",
    "import datetime\n",
    "from pyspark.sql.functions import monotonically_increasing_id \n",
    "import jieba\n",
    "import numpy as np\n",
    "import random"
   ]
  },
  {
   "cell_type": "code",
   "execution_count": 4,
   "metadata": {},
   "outputs": [],
   "source": [
    "productSchema = StructType([\n",
    "    StructField(\"product_id\", StringType(), True),\n",
    "    StructField(\"category\", StringType(), True),\n",
    "    StructField(\"name\", StringType(), True),\n",
    "    StructField(\"price\", IntegerType(), True),\n",
    "    StructField(\"sale\", IntegerType(), True),\n",
    "    StructField(\"score\", FloatType(), True),\n",
    "    StructField(\"url\", StringType(), True),\n",
    "    StructField(\"imgurl\", StringType(), True),\n",
    "    StructField(\"update_time\", DateType(), True)])\n",
    "\n",
    "productDf = spark.read.csv(Path+\"3c_product.csv\",header=False,schema=productSchema)"
   ]
  },
  {
   "cell_type": "code",
   "execution_count": 5,
   "metadata": {},
   "outputs": [
    {
     "name": "stdout",
     "output_type": "stream",
     "text": [
      "+----------+--------+--------------------+-----+----+-----+-----------+\n",
      "|product_id|category|                name|price|sale|score|update_time|\n",
      "+----------+--------+--------------------+-----+----+-----+-----------+\n",
      "| 100000238| Apple空機|迪士尼手機殼愛麗絲維尼史迪奇電鍍保...|  299|  -1| -1.0| 2017-12-23|\n",
      "| 100000238| Apple空機|迪士尼手機殼愛麗絲維尼史迪奇電鍍保...|  299|  -1| -1.0| 2017-12-24|\n",
      "| 100000238| Apple空機|迪士尼手機殼愛麗絲維尼史迪奇電鍍保...|  299|  -1| -1.0| 2017-12-25|\n",
      "| 100000238| Apple空機|迪士尼手機殼愛麗絲維尼史迪奇電鍍保...|  299|  -1| -1.0| 2017-12-26|\n",
      "| 100000411| Apple空機|迪士尼手機殼愛麗絲維尼史迪奇電鍍保...|  299|  -1|  5.0| 2017-12-23|\n",
      "+----------+--------+--------------------+-----+----+-----+-----------+\n",
      "only showing top 5 rows\n",
      "\n"
     ]
    }
   ],
   "source": [
    "productDf.select(\"product_id\", \"category\", \"name\", \"price\", \"sale\", \"score\", \"update_time\").show(5)"
   ]
  },
  {
   "cell_type": "code",
   "execution_count": 6,
   "metadata": {},
   "outputs": [
    {
     "name": "stdout",
     "output_type": "stream",
     "text": [
      "+----------+----------+--------------+-----+----+-----+--------------------+--------------------+-----------+\n",
      "|product_id|  category|          name|price|sale|score|                 url|              imgurl|update_time|\n",
      "+----------+----------+--------------+-----+----+-----+--------------------+--------------------+-----------+\n",
      "| 100033527|iPhone充電傳輸|現貨蘋果安卓兩用USB數據線|   99|  -1|  5.0|https://goo.gl/ea...|https://goo.gl/4k...| 2017-12-23|\n",
      "| 100033527|iPhone充電傳輸|現貨蘋果安卓兩用USB數據線|   99|  -1|  5.0|https://goo.gl/ea...|https://goo.gl/4k...| 2017-12-24|\n",
      "| 100033527|iPhone充電傳輸|現貨蘋果安卓兩用USB數據線|   99|  -1|  5.0|https://goo.gl/ea...|https://goo.gl/4k...| 2017-12-25|\n",
      "| 100033527|iPhone充電傳輸|現貨蘋果安卓兩用USB數據線|   99|  -1|  5.0|https://goo.gl/ea...|https://goo.gl/4k...| 2017-12-26|\n",
      "|  10003468|iPhone充電傳輸|    iPhone6手機殼|  250|  -1| -1.0|https://goo.gl/7y...|https://goo.gl/Ss...| 2017-12-23|\n",
      "+----------+----------+--------------+-----+----+-----+--------------------+--------------------+-----------+\n",
      "only showing top 5 rows\n",
      "\n"
     ]
    }
   ],
   "source": [
    "dataDF = productDf.filter('category=\"iPhone充電傳輸\"')\n",
    "dataDF.show(5)"
   ]
  },
  {
   "cell_type": "code",
   "execution_count": 7,
   "metadata": {},
   "outputs": [
    {
     "data": {
      "text/plain": [
       "[Row(name='現貨蘋果安卓兩用USB數據線'),\n",
       " Row(name='rockspace一拖三充電線B款三合一2A快速充電傳輸線充電線TYPE安卓蘋果A00232'),\n",
       " Row(name='Lightning對35公釐耳機插孔轉接器'),\n",
       " Row(name='iPhone66s66splus47寸55寸氣囊手機套手機殼'),\n",
       " Row(name='BASEUS倍思機械時代蘋果iPhoneiOS304不銹鋼數據傳輸線21A快速充電線金屬線1米長')]"
      ]
     },
     "execution_count": 7,
     "metadata": {},
     "output_type": "execute_result"
    }
   ],
   "source": [
    "productNameRDD = dataDF.select(\"name\").rdd.distinct()\n",
    "productNameRDD.take(5)"
   ]
  },
  {
   "cell_type": "code",
   "execution_count": 8,
   "metadata": {},
   "outputs": [
    {
     "data": {
      "text/plain": [
       "['現貨蘋果安卓兩用USB數據線',\n",
       " 'rockspace一拖三充電線B款三合一2A快速充電傳輸線充電線TYPE安卓蘋果A00232',\n",
       " 'Lightning對35公釐耳機插孔轉接器',\n",
       " 'iPhone66s66splus47寸55寸氣囊手機套手機殼',\n",
       " 'BASEUS倍思機械時代蘋果iPhoneiOS304不銹鋼數據傳輸線21A快速充電線金屬線1米長']"
      ]
     },
     "execution_count": 8,
     "metadata": {},
     "output_type": "execute_result"
    }
   ],
   "source": [
    "productNameRDD = productNameRDD.map(lambda x: x[0])\n",
    "productNameRDD.take(5)"
   ]
  },
  {
   "cell_type": "code",
   "execution_count": 20,
   "metadata": {},
   "outputs": [],
   "source": [
    "def split_jieba(line, cutMode):\n",
    "    jieba.load_userdict(\"jieba_dict/productDict.txt\")\n",
    "    seg_list = jieba.cut(line, cut_all=cutMode)\n",
    "    ls = []\n",
    "    for w in seg_list:\n",
    "        ls.append(w)\n",
    "    \n",
    "    return ls"
   ]
  },
  {
   "cell_type": "code",
   "execution_count": 11,
   "metadata": {},
   "outputs": [
    {
     "data": {
      "text/plain": [
       "[['現貨', '蘋果', '安卓', '兩用', 'USB', '數據線'],\n",
       " ['rockspace',\n",
       "  '一拖',\n",
       "  '三充',\n",
       "  '電線',\n",
       "  'B',\n",
       "  '款',\n",
       "  '三合一',\n",
       "  '2A',\n",
       "  '快速',\n",
       "  '充電傳',\n",
       "  '輸線',\n",
       "  '充電線',\n",
       "  'TYPE',\n",
       "  '安卓',\n",
       "  '蘋果',\n",
       "  'A00232'],\n",
       " ['Lightning', '對', '35', '公釐耳機', '插孔', '轉', '接器'],\n",
       " ['iPhone66s66splus47', '寸', '55', '寸氣囊', '手機', '套手', '機殼'],\n",
       " ['BASEUS',\n",
       "  '倍',\n",
       "  '思機械',\n",
       "  '時代',\n",
       "  '蘋果',\n",
       "  'iPhoneiOS304',\n",
       "  '不銹鋼',\n",
       "  '數據',\n",
       "  '傳輸線',\n",
       "  '21A',\n",
       "  '快速',\n",
       "  '充電線',\n",
       "  '金屬線',\n",
       "  '1',\n",
       "  '米長']]"
      ]
     },
     "execution_count": 11,
     "metadata": {},
     "output_type": "execute_result"
    }
   ],
   "source": [
    "splitData = productNameRDD.map(lambda x: split_jieba(x, False))\n",
    "splitData.take(5)"
   ]
  },
  {
   "cell_type": "code",
   "execution_count": 15,
   "metadata": {},
   "outputs": [],
   "source": [
    "splitData.saveAsTextFile(\"jieba_text\")"
   ]
  },
  {
   "cell_type": "code",
   "execution_count": 34,
   "metadata": {},
   "outputs": [
    {
     "data": {
      "text/plain": [
       "[['現貨', '蘋果', '安卓', '兩用', 'USB', '數據線'],\n",
       " ['rockspace',\n",
       "  '一拖',\n",
       "  '三',\n",
       "  '充電線',\n",
       "  'B',\n",
       "  '款',\n",
       "  '三合一',\n",
       "  '2A',\n",
       "  '快速',\n",
       "  '充電',\n",
       "  '傳輸線',\n",
       "  '充電線',\n",
       "  'TYPE',\n",
       "  '安卓',\n",
       "  '蘋果',\n",
       "  'A00232'],\n",
       " ['Lightning', '對', '35', '公釐', '耳機', '插孔', '轉接器'],\n",
       " ['iPhone6', '6s6', '6splus', '47', '寸', '55', '寸', '氣囊', '手機套', '手機殼'],\n",
       " ['BASEUS',\n",
       "  '倍思',\n",
       "  '機械',\n",
       "  '時代',\n",
       "  '蘋果',\n",
       "  'iPhone',\n",
       "  'iOS',\n",
       "  '304',\n",
       "  '不銹鋼',\n",
       "  '數據',\n",
       "  '傳輸線',\n",
       "  '21A',\n",
       "  '快速',\n",
       "  '充電線',\n",
       "  '金屬線',\n",
       "  '1',\n",
       "  '米長']]"
      ]
     },
     "execution_count": 34,
     "metadata": {},
     "output_type": "execute_result"
    }
   ],
   "source": [
    "splitData2 = productNameRDD.map(lambda x: split_jieba(x, False))\n",
    "splitData2.take(5)"
   ]
  },
  {
   "cell_type": "code",
   "execution_count": 64,
   "metadata": {},
   "outputs": [
    {
     "data": {
      "text/plain": [
       "2954"
      ]
     },
     "execution_count": 64,
     "metadata": {},
     "output_type": "execute_result"
    }
   ],
   "source": [
    "splitData2.count()"
   ]
  },
  {
   "cell_type": "code",
   "execution_count": 25,
   "metadata": {},
   "outputs": [],
   "source": [
    "splitData2.saveAsTextFile(\"jieba_text2\")"
   ]
  },
  {
   "cell_type": "markdown",
   "metadata": {},
   "source": [
    "# doc2Vec Testing"
   ]
  },
  {
   "cell_type": "code",
   "execution_count": 31,
   "metadata": {},
   "outputs": [],
   "source": [
    "import gensim"
   ]
  },
  {
   "cell_type": "code",
   "execution_count": 36,
   "metadata": {},
   "outputs": [],
   "source": [
    "doc2VecData = splitData2.zipWithIndex()"
   ]
  },
  {
   "cell_type": "code",
   "execution_count": 49,
   "metadata": {},
   "outputs": [
    {
     "data": {
      "text/plain": [
       "['現貨', '蘋果', '安卓', '兩用', 'USB', '數據線']"
      ]
     },
     "execution_count": 49,
     "metadata": {},
     "output_type": "execute_result"
    }
   ],
   "source": [
    "doc2VecData.take(3)[0][0]"
   ]
  },
  {
   "cell_type": "code",
   "execution_count": 103,
   "metadata": {},
   "outputs": [],
   "source": [
    "def word2LabledSentence(line):\n",
    "    \n",
    "    #sentences = []\n",
    "    index = line[-1]\n",
    "    wordList = line[0]\n",
    "    \n",
    "    sentence = gensim.models.doc2vec.TaggedDocument(list(wordList),[int(index)])\n",
    "    #sentences.append(sentence)\n",
    "    \n",
    "    return sentence"
   ]
  },
  {
   "cell_type": "code",
   "execution_count": 104,
   "metadata": {},
   "outputs": [],
   "source": [
    "doc2VecLabledRes = doc2VecData.map(lambda line: word2LabledSentence(line))"
   ]
  },
  {
   "cell_type": "code",
   "execution_count": 165,
   "metadata": {},
   "outputs": [],
   "source": [
    "doc2Vec_train, doc2Vec_test = doc2VecLabledRes.randomSplit(weights=[0.7, 0.3])"
   ]
  },
  {
   "cell_type": "code",
   "execution_count": 166,
   "metadata": {},
   "outputs": [
    {
     "data": {
      "text/plain": [
       "[TaggedDocument(words=['現貨', '蘋果', '安卓', '兩用', 'USB', '數據線'], tags=[0]),\n",
       " TaggedDocument(words=['rockspace', '一拖', '三', '充電線', 'B', '款', '三合一', '2A', '快速', '充電', '傳輸線', '充電線', 'TYPE', '安卓', '蘋果', 'A00232'], tags=[1]),\n",
       " TaggedDocument(words=['Lightning', '對', '35', '公釐', '耳機', '插孔', '轉接器'], tags=[2]),\n",
       " TaggedDocument(words=['iPhone6', '6s6', '6splus', '47', '寸', '55', '寸', '氣囊', '手機套', '手機殼'], tags=[3]),\n",
       " TaggedDocument(words=['BASEUS', '倍思', '機械', '時代', '蘋果', 'iPhone', 'iOS', '304', '不銹鋼', '數據', '傳輸線', '21A', '快速', '充電線', '金屬線', '1', '米長'], tags=[4])]"
      ]
     },
     "execution_count": 166,
     "metadata": {},
     "output_type": "execute_result"
    }
   ],
   "source": [
    "doc2Vec_train.take(5)"
   ]
  },
  {
   "cell_type": "code",
   "execution_count": 105,
   "metadata": {},
   "outputs": [],
   "source": [
    "sentences = doc2VecLabledRes.collect()"
   ]
  },
  {
   "cell_type": "code",
   "execution_count": 108,
   "metadata": {},
   "outputs": [
    {
     "data": {
      "text/plain": [
       "TaggedDocument(words=['現貨', '蘋果', '安卓', '兩用', 'USB', '數據線'], tags=[0])"
      ]
     },
     "execution_count": 108,
     "metadata": {},
     "output_type": "execute_result"
    }
   ],
   "source": [
    "sentences[0]"
   ]
  },
  {
   "cell_type": "code",
   "execution_count": 134,
   "metadata": {},
   "outputs": [
    {
     "data": {
      "text/plain": [
       "['現貨', '蘋果', '安卓', '兩用', 'USB', '數據線']"
      ]
     },
     "execution_count": 134,
     "metadata": {},
     "output_type": "execute_result"
    }
   ],
   "source": [
    "sentences[0].words"
   ]
  },
  {
   "cell_type": "code",
   "execution_count": 91,
   "metadata": {},
   "outputs": [
    {
     "data": {
      "text/plain": [
       "2954"
      ]
     },
     "execution_count": 91,
     "metadata": {},
     "output_type": "execute_result"
    }
   ],
   "source": [
    "len(sentences)"
   ]
  },
  {
   "cell_type": "code",
   "execution_count": 167,
   "metadata": {},
   "outputs": [],
   "source": [
    "sentences_train = doc2Vec_train.collect()\n",
    "sentences_test = doc2Vec_test.collect()"
   ]
  },
  {
   "cell_type": "code",
   "execution_count": 170,
   "metadata": {},
   "outputs": [],
   "source": [
    "doc2VecModel = gensim.models.Doc2Vec(vector_size = 100, window = 300, min_count = 10)\n",
    "doc2VecModel.build_vocab(sentences)"
   ]
  },
  {
   "cell_type": "code",
   "execution_count": null,
   "metadata": {
    "scrolled": true
   },
   "outputs": [],
   "source": [
    "doc2VecModel.train(sentence_train, total_examples=doc2VecModel.corpus_count, epochs=doc2VecModel.epochs)"
   ]
  },
  {
   "cell_type": "code",
   "execution_count": 164,
   "metadata": {},
   "outputs": [],
   "source": [
    "doc2VecModel.save('doc2VecModel.txt')"
   ]
  },
  {
   "cell_type": "markdown",
   "metadata": {},
   "source": [
    "## 多次訓練model"
   ]
  },
  {
   "cell_type": "code",
   "execution_count": 168,
   "metadata": {},
   "outputs": [
    {
     "name": "stdout",
     "output_type": "stream",
     "text": [
      "5\n"
     ]
    }
   ],
   "source": [
    "for epochs in doc2VecModel.epochs:\n",
    "    random.shuffle(sentences_train)\n",
    "    doc2VecModel.train(sentence_train, total_examples=doc2VecModel.corpus_count, epochs=doc2VecModel.epochs)"
   ]
  },
  {
   "cell_type": "markdown",
   "metadata": {},
   "source": [
    "## 測試model"
   ]
  },
  {
   "cell_type": "code",
   "execution_count": 144,
   "metadata": {},
   "outputs": [
    {
     "name": "stdout",
     "output_type": "stream",
     "text": [
      "[ -8.19119625e-03   8.98340251e-03  -1.45160183e-02   3.52894366e-02\n",
      "   2.78613176e-02   4.19940799e-02   1.90387610e-02   1.86485760e-02\n",
      "  -2.77819391e-03  -6.45066379e-03   2.13023126e-02  -5.28194336e-03\n",
      "  -4.22797129e-02  -7.30575575e-03   1.62484832e-02  -2.30166949e-02\n",
      "   1.88346263e-02  -8.35506897e-03  -1.64519809e-02  -2.08902601e-02\n",
      "  -3.12363449e-02  -1.37819545e-02  -1.34840915e-02  -1.28541040e-04\n",
      "   1.60880201e-02   5.04784146e-03   1.08779809e-02   1.06303785e-02\n",
      "  -1.30325472e-02   2.33874493e-03   1.53745078e-02  -1.62833985e-02\n",
      "   9.21956077e-03   2.98496019e-02   2.61471011e-02  -1.29526863e-02\n",
      "  -4.54749800e-02   8.97833332e-03   1.82300285e-02   2.14700494e-02\n",
      "   6.71666069e-03  -1.29926195e-02  -7.81702809e-03  -1.51374061e-02\n",
      "   2.27618702e-02   5.08051645e-03   1.83797926e-02   2.10271291e-02\n",
      "  -8.51967931e-03   1.06016472e-02  -3.14428993e-02   2.46486701e-02\n",
      "  -1.09694125e-02  -2.51980079e-03  -8.19945801e-03   1.20796952e-02\n",
      "   1.32218553e-02  -1.08749662e-02   1.44711707e-03  -8.62662564e-04\n",
      "  -1.49192056e-03  -3.85801606e-02   3.46371415e-03  -7.22582731e-03\n",
      "  -4.51583937e-02   7.61096017e-05   1.31746726e-02   2.62273159e-02\n",
      "  -3.67649384e-02   4.19650933e-05   5.91434399e-03   6.94930553e-02\n",
      "   1.34003200e-02  -3.70658264e-02   2.79639103e-02  -1.38079505e-02\n",
      "  -1.14711223e-03   3.32951732e-03  -2.49837548e-03   1.28900376e-03\n",
      "   7.13199086e-04   3.36196832e-02  -4.46196413e-03   8.45708069e-04\n",
      "  -2.49691550e-02  -2.02989280e-02  -1.94901656e-02   2.88352743e-02\n",
      "   1.06377676e-02   2.59647723e-02   9.42752790e-03  -2.06110738e-02\n",
      "  -2.89516691e-02  -4.21352265e-03   2.05830634e-02   1.06139481e-02\n",
      "   1.96734276e-02   1.58386547e-02   2.55858824e-02  -3.86890247e-02]\n"
     ]
    }
   ],
   "source": [
    "test_text = ['IPhone6', '原廠頭', '原廠', '充電器', '原廠', '旅充頭', '豆腐頭', '小白頭'] \n",
    "inferred_vector_dm = doc2VecModel.infer_vector(test_text)  \n",
    "print(inferred_vector_dm)"
   ]
  },
  {
   "cell_type": "code",
   "execution_count": 149,
   "metadata": {},
   "outputs": [],
   "source": [
    "sims = doc2VecModel.docvecs.most_similar([inferred_vector_dm], topn=10)"
   ]
  },
  {
   "cell_type": "code",
   "execution_count": 146,
   "metadata": {},
   "outputs": [
    {
     "name": "stdout",
     "output_type": "stream",
     "text": [
      "i4 硬殼  0.975570797920227 2\n",
      "MARVEL iPhoneSE i5i5s 復 仇者 聯盟 時尚 電鍍 保護 軟套 DN1AM5  0.9748216271400452 11\n",
      "MARVEL iPhone6 6s 復 仇者 聯盟 2D 立體 保護套 DN1AM6  0.9737220406532288 10\n",
      "miki 醬 手機 水鑽殼 防塵塞 福袋 35mm iphone 344S 三星 S2notei9220 nokia N8 Sony 蝴蝶 結 珍珠 水 鑽 可愛 浪漫 手機套  0.9713416695594788 22\n",
      "MELODY 按鍵 貼 指紋 按鍵 貼 iPhone 系列  0.9697436094284058 8\n",
      "艾瑪 防水 布包 直立 手機 袋 經典 紅格紋 ZakkaUmahana 防水 包 防水 斜 背包 防水 手機 袋  0.9696629643440247 17\n",
      "Iphone 透明 鋼化 玻璃 膜 9H  0.9690421223640442 6\n",
      "MARVEL iPhone 6Plus 6sPlus 復 仇者 聯盟 2D 立體 保護套 DN1AMP  0.9675761461257935 11\n",
      "優惠價 Apple WatchSeries1 軍規 防 摔 防水 42mm 黑黑  0.9674739837646484 9\n",
      "HAO 授權 代理 HAO 鏡頭 框 iPhone6 S 6Plus iPhone6 S6 鏡頭 保護框  0.9673609733581543 13\n"
     ]
    }
   ],
   "source": [
    "for count, sim in sims:  \n",
    "    sentence = sentences[count]  \n",
    "    words = ''  \n",
    "    for word in sentence.words:  \n",
    "        words = words + word + ' '  \n",
    "    print (words, sim, len(sentence[0]))"
   ]
  },
  {
   "cell_type": "code",
   "execution_count": 158,
   "metadata": {},
   "outputs": [
    {
     "name": "stdout",
     "output_type": "stream",
     "text": [
      "examing\n",
      "for doc 2639...\n",
      "Doc2Vec(dm/m,d100,n5,w300,mc10,s0.001,t3):\n",
      " [(665, 0.9527255296707153), (2719, 0.9526031613349915), (271, 0.9502585530281067)]\n"
     ]
    }
   ],
   "source": [
    "print ('examing')\n",
    "doc_id = np.random.randint(doc2VecModel.docvecs.count)  # pick random doc; re-run cell for more examples\n",
    "print('for doc %d...' % doc_id)\n",
    "inferred_docvec = doc2VecModel.infer_vector(sentences[doc_id].words)\n",
    "print('%s:\\n %s' % (doc2VecModel, doc2VecModel.docvecs.most_similar([inferred_docvec], topn=3)))"
   ]
  },
  {
   "cell_type": "code",
   "execution_count": 160,
   "metadata": {},
   "outputs": [
    {
     "data": {
      "text/plain": [
       "TaggedDocument(words=['PQI', '蘋果', '認證', 'MFi', '圓線', 'Lightning', '傳輸', '100cm', '充電', 'iPhone6', '78X'], tags=[2639])"
      ]
     },
     "execution_count": 160,
     "metadata": {},
     "output_type": "execute_result"
    }
   ],
   "source": [
    "sentences[2639]"
   ]
  },
  {
   "cell_type": "code",
   "execution_count": 159,
   "metadata": {},
   "outputs": [
    {
     "data": {
      "text/plain": [
       "TaggedDocument(words=['西屯彩殼', 'AvierLinePro', 'Lightning', '極速', '鋅', '合金', '編織線', '快速', '充電', '鋅', '合金', '1M'], tags=[665])"
      ]
     },
     "execution_count": 159,
     "metadata": {},
     "output_type": "execute_result"
    }
   ],
   "source": [
    "sentences[665]"
   ]
  },
  {
   "cell_type": "code",
   "execution_count": null,
   "metadata": {},
   "outputs": [],
   "source": []
  }
 ],
 "metadata": {
  "kernelspec": {
   "display_name": "Python 3",
   "language": "python",
   "name": "python3"
  },
  "language_info": {
   "codemirror_mode": {
    "name": "ipython",
    "version": 3
   },
   "file_extension": ".py",
   "mimetype": "text/x-python",
   "name": "python",
   "nbconvert_exporter": "python",
   "pygments_lexer": "ipython3",
   "version": "3.6.3"
  }
 },
 "nbformat": 4,
 "nbformat_minor": 2
}
