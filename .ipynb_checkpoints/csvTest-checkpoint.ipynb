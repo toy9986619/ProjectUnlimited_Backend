{
 "cells": [
  {
   "cell_type": "code",
   "execution_count": 3,
   "metadata": {},
   "outputs": [
    {
     "ename": "TypeError",
     "evalue": "'Builder' object is not callable",
     "output_type": "error",
     "traceback": [
      "\u001b[0;31m---------------------------------------------------------------------------\u001b[0m",
      "\u001b[0;31mTypeError\u001b[0m                                 Traceback (most recent call last)",
      "\u001b[0;32m<ipython-input-3-1c442141a702>\u001b[0m in \u001b[0;36m<module>\u001b[0;34m()\u001b[0m\n\u001b[1;32m      2\u001b[0m \u001b[0;32mfrom\u001b[0m \u001b[0mpyspark\u001b[0m\u001b[0;34m.\u001b[0m\u001b[0msql\u001b[0m \u001b[0;32mimport\u001b[0m \u001b[0mSparkSession\u001b[0m\u001b[0;34m\u001b[0m\u001b[0m\n\u001b[1;32m      3\u001b[0m \u001b[0;31m#sc = pyspark.SparkContext('local[*]')\u001b[0m\u001b[0;34m\u001b[0m\u001b[0;34m\u001b[0m\u001b[0m\n\u001b[0;32m----> 4\u001b[0;31m \u001b[0mspark\u001b[0m \u001b[0;34m=\u001b[0m \u001b[0mSparkSession\u001b[0m\u001b[0;34m.\u001b[0m\u001b[0mbuilder\u001b[0m\u001b[0;34m(\u001b[0m\u001b[0;34m)\u001b[0m\u001b[0;34m.\u001b[0m\u001b[0mappName\u001b[0m\u001b[0;34m(\u001b[0m\u001b[0mappName\u001b[0m\u001b[0;34m)\u001b[0m\u001b[0;34m.\u001b[0m\u001b[0mmaster\u001b[0m\u001b[0;34m(\u001b[0m\u001b[0mmaster\u001b[0m\u001b[0;34m)\u001b[0m\u001b[0;34m.\u001b[0m\u001b[0mgetOrCreate\u001b[0m\u001b[0;34m(\u001b[0m\u001b[0;34m)\u001b[0m\u001b[0;34m\u001b[0m\u001b[0m\n\u001b[0m",
      "\u001b[0;31mTypeError\u001b[0m: 'Builder' object is not callable"
     ]
    }
   ],
   "source": [
    "import pyspark\n",
    "from pyspark.sql import SparkSession\n",
    "#sc = pyspark.SparkContext('local[*]')\n",
    "spark = SparkSession.builder().appName(appName).master(master).getOrCreate()"
   ]
  },
  {
   "cell_type": "code",
   "execution_count": 5,
   "metadata": {},
   "outputs": [],
   "source": [
    "global Path\n",
    "if sc.master[0:5] == \"local\":\n",
    "    Path = \"file:csvData/\"\n",
    "else:\n",
    "    Path = \"hdfs:/user/zeppelin/csvData/\""
   ]
  },
  {
   "cell_type": "code",
   "execution_count": 6,
   "metadata": {},
   "outputs": [],
   "source": [
    "from pyspark.sql.types import StructType, StructField, IntegerType, StringType, DateType"
   ]
  },
  {
   "cell_type": "code",
   "execution_count": 8,
   "metadata": {},
   "outputs": [
    {
     "ename": "AttributeError",
     "evalue": "'SparkContext' object has no attribute 'read'",
     "output_type": "error",
     "traceback": [
      "\u001b[0;31m---------------------------------------------------------------------------\u001b[0m",
      "\u001b[0;31mAttributeError\u001b[0m                            Traceback (most recent call last)",
      "\u001b[0;32m<ipython-input-8-140c7cf21b2d>\u001b[0m in \u001b[0;36m<module>\u001b[0;34m()\u001b[0m\n\u001b[1;32m     10\u001b[0m     StructField(\"update_time\", DateType(), True)])\n\u001b[1;32m     11\u001b[0m \u001b[0;34m\u001b[0m\u001b[0m\n\u001b[0;32m---> 12\u001b[0;31m \u001b[0mdf\u001b[0m \u001b[0;34m=\u001b[0m \u001b[0msc\u001b[0m\u001b[0;34m.\u001b[0m\u001b[0mread\u001b[0m\u001b[0;34m.\u001b[0m\u001b[0mcsv\u001b[0m\u001b[0;34m(\u001b[0m\u001b[0mPath\u001b[0m\u001b[0;34m+\u001b[0m\u001b[0;34m\"test.csv\"\u001b[0m\u001b[0;34m,\u001b[0m\u001b[0mheader\u001b[0m\u001b[0;34m=\u001b[0m\u001b[0;32mFalse\u001b[0m\u001b[0;34m,\u001b[0m\u001b[0mschema\u001b[0m\u001b[0;34m=\u001b[0m\u001b[0mschema\u001b[0m\u001b[0;34m)\u001b[0m\u001b[0;34m\u001b[0m\u001b[0m\n\u001b[0m",
      "\u001b[0;31mAttributeError\u001b[0m: 'SparkContext' object has no attribute 'read'"
     ]
    }
   ],
   "source": [
    "schema = StructType([\n",
    "    StructField(\"id\", IntegerType(), True),\n",
    "    StructField(\"product\", StringType(), True),\n",
    "    StructField(\"kind\", StringType(), True),\n",
    "    StructField(\"category\", StringType(), True),\n",
    "    StructField(\"price\", IntegerType(), True),\n",
    "    StructField(\"url\", StringType(), True),\n",
    "    StructField(\"website\", StringType(), True),\n",
    "    StructField(\"picture\", StringType(), True),\n",
    "    StructField(\"update_time\", DateType(), True)])\n",
    "\n",
    "df = spark.read.csv(Path+\"test.csv\",header=False,schema=schema)"
   ]
  },
  {
   "cell_type": "code",
   "execution_count": 35,
   "metadata": {},
   "outputs": [
    {
     "name": "stdout",
     "output_type": "stream",
     "text": [
      "+---+--------------------+----+--------+-----+--------------------+-------+--------------------+-----------+\n",
      "| id|             product|kind|category|price|                 url|website|             picture|update_time|\n",
      "+---+--------------------+----+--------+-----+--------------------+-------+--------------------+-----------+\n",
      "|  1|纯木竹浆卫生纸本色纸抽纸面巾妇婴餐...| 衛生紙|    日常用品|    1|//item.taobao.com...|     淘寶|//g-search3.alicd...| 2017-07-17|\n",
      "|  2|包邮 百慧2800克实惠装家用无芯...| 衛生紙|    日常用品|    1|//item.taobao.com...|     淘寶|//g-search2.alicd...| 2017-07-17|\n",
      "|  3|理文 本色纸抽纸原生竹浆纤维纸婴儿...| 衛生紙|    日常用品|    1|//item.taobao.com...|     淘寶|//g-search3.alicd...| 2017-07-17|\n",
      "|  4|女主角卫生纸卷筒纸原生浆纸家用厕纸...| 衛生紙|    日常用品|    1|//item.taobao.com...|     淘寶|//g-search2.alicd...| 2017-07-17|\n",
      "|  5|家庭装24包抽纸整箱厕纸面巾纸卫生...| 衛生紙|    日常用品|    1|//item.taobao.com...|     淘寶|//g-search3.alicd...| 2017-07-17|\n",
      "+---+--------------------+----+--------+-----+--------------------+-------+--------------------+-----------+\n",
      "only showing top 5 rows\n",
      "\n"
     ]
    }
   ],
   "source": [
    "df.show(5)"
   ]
  },
  {
   "cell_type": "code",
   "execution_count": 37,
   "metadata": {},
   "outputs": [
    {
     "name": "stdout",
     "output_type": "stream",
     "text": [
      "+-----+--------------------+----+--------+-----+--------------------+-------+--------------------+-----------+\n",
      "|   id|             product|kind|category|price|                 url|website|             picture|update_time|\n",
      "+-----+--------------------+----+--------+-----+--------------------+-------+--------------------+-----------+\n",
      "|13453|【限時免運 可充電防水 背包 】書...|  背包|    外出用品|  565|https://tw.bid.ya...|     Y拍|//nevec-img.zenfs...| 2017-07-17|\n",
      "|13454|{日差} 高端STAMPD MCM...|  背包|    外出用品| 1680|https://tw.bid.ya...|     Y拍|//nevec-img.zenfs...| 2017-07-17|\n",
      "|13455|《生活專科》空運直送正品✈日本樂天...|  背包|    外出用品|  745|https://tw.bid.ya...|     Y拍|//nevec-img.zenfs...| 2017-07-17|\n",
      "|13456|【Matchwood直營】Matc...|  背包|    外出用品| 1780|https://tw.bid.ya...|     Y拍|//nevec-img.zenfs...| 2017-07-17|\n",
      "|13457|英國 JUST Hype 雙肩包 ...|  背包|    外出用品|  750|https://tw.bid.ya...|     Y拍|//nevec-img.zenfs...| 2017-07-17|\n",
      "+-----+--------------------+----+--------+-----+--------------------+-------+--------------------+-----------+\n",
      "only showing top 5 rows\n",
      "\n"
     ]
    }
   ],
   "source": [
    "bagdf = df.filter(\"kind='背包' and website='Y拍'\")\n",
    "bagdf.show(5)"
   ]
  },
  {
   "cell_type": "code",
   "execution_count": 2,
   "metadata": {},
   "outputs": [
    {
     "name": "stdout",
     "output_type": "stream",
     "text": [
      "ALSTest.ipynb  \u001b[0m\u001b[01;34mcsvData\u001b[0m/  csvTest.ipynb  DataFramTest.ipynb  mysql.ipynb\r\n"
     ]
    }
   ],
   "source": [
    "%ls"
   ]
  },
  {
   "cell_type": "code",
   "execution_count": null,
   "metadata": {},
   "outputs": [],
   "source": []
  }
 ],
 "metadata": {
  "kernelspec": {
   "display_name": "Python 3",
   "language": "python",
   "name": "python3"
  },
  "language_info": {
   "codemirror_mode": {
    "name": "ipython",
    "version": 3
   },
   "file_extension": ".py",
   "mimetype": "text/x-python",
   "name": "python",
   "nbconvert_exporter": "python",
   "pygments_lexer": "ipython3",
   "version": "3.6.3"
  }
 },
 "nbformat": 4,
 "nbformat_minor": 2
}
