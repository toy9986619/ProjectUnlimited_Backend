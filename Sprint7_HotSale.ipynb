{
 "cells": [
  {
   "cell_type": "markdown",
   "metadata": {},
   "source": [
    "# 前置作業"
   ]
  },
  {
   "cell_type": "code",
   "execution_count": 1,
   "metadata": {},
   "outputs": [],
   "source": [
    "import pyspark\n",
    "from pyspark.sql import SparkSession\n",
    "sc = pyspark.SparkContext('local[*]')\n",
    "spark = SparkSession.builder.appName(\"HotSale\").getOrCreate()"
   ]
  },
  {
   "cell_type": "code",
   "execution_count": 2,
   "metadata": {},
   "outputs": [],
   "source": [
    "global Path\n",
    "if sc.master[0:5] == \"local\":\n",
    "    Path = \"file:/home/jovyan/work/csvData/CSV/\"\n",
    "else:\n",
    "    Path = \"hdfs:/user/zeppelin/csvData/CSV/\""
   ]
  },
  {
   "cell_type": "code",
   "execution_count": 3,
   "metadata": {},
   "outputs": [],
   "source": [
    "from operator import add\n",
    "from pyspark.sql.types import StructType, StructField, IntegerType, StringType, DateType, FloatType\n",
    "import time\n",
    "import math\n",
    "import datetime\n",
    "from pyspark.sql.functions import monotonically_increasing_id, array_contains\n",
    "import re"
   ]
  },
  {
   "cell_type": "code",
   "execution_count": 4,
   "metadata": {},
   "outputs": [],
   "source": [
    "productSchema = StructType([\n",
    "    StructField(\"item_id\", IntegerType(), True),\n",
    "    StructField(\"shop_id\", IntegerType(), True),\n",
    "    StructField(\"shop_name\", StringType(), True),\n",
    "    StructField(\"category_name\", StringType(), True),\n",
    "    StructField(\"name\", StringType(), True),\n",
    "    StructField(\"hashtag\", StringType(), True),\n",
    "    StructField(\"trade_in\", FloatType(), True),\n",
    "    StructField(\"price\", IntegerType(), True),\n",
    "    StructField(\"sale\", IntegerType(), True),\n",
    "    StructField(\"score_avg\", FloatType(), True),\n",
    "    StructField(\"score_num\", IntegerType(), True),\n",
    "    StructField(\"stock\", IntegerType(), True),\n",
    "    StructField(\"need_day\", IntegerType(), True),\n",
    "    StructField(\"url\", StringType(), True),\n",
    "    StructField(\"content\", StringType(), True),\n",
    "    StructField(\"update_time\", DateType(), True)])\n",
    "\n",
    "#productDf = spark.read.csv(Path+\"2018-04-01 shopee_product.csv\",header=False,schema=productSchema,quote='')"
   ]
  },
  {
   "cell_type": "code",
   "execution_count": 5,
   "metadata": {},
   "outputs": [],
   "source": [
    "def makeRDD(line):\n",
    "    line = line.split(\",\")\n",
    "    \n",
    "    if line[0] != \"item_id\":\n",
    "        for i in range(len(line)):\n",
    "            if line[i]==\"\":\n",
    "                line[i]=0\n",
    "                \n",
    "        return [int(line[0]), int(line[1]), line[2], line[3], line[4], line[5], float(line[6]), int(line[7]), int(line[8]), float(line[9]), int(line[10]), int(line[11]), int(line[12]), line[13], line[14]]\n",
    "    \n",
    "    else:\n",
    "        return line"
   ]
  },
  {
   "cell_type": "code",
   "execution_count": 6,
   "metadata": {},
   "outputs": [],
   "source": [
    "productRDD = sc.parallelize([])"
   ]
  },
  {
   "cell_type": "code",
   "execution_count": 7,
   "metadata": {},
   "outputs": [],
   "source": [
    "for i in range(1,12):\n",
    "    if i <10:\n",
    "        date = \"2018-04-0\"+str(i)\n",
    "        filename = Path + date +\" shopee_product.csv\"\n",
    "    elif 10 <= i and i < 31:\n",
    "        date = \"2018-04-\"+str(i)\n",
    "        filename = Path + date +\" shopee_product.csv\"\n",
    "    date = datetime.datetime.strptime(date, '%Y-%m-%d')\n",
    "    readRDD = sc.textFile(filename).map(makeRDD).map(lambda line: tuple(line)+(date,))\n",
    "    productRDD = productRDD.union(readRDD)"
   ]
  },
  {
   "cell_type": "code",
   "execution_count": 8,
   "metadata": {},
   "outputs": [
    {
     "data": {
      "text/plain": [
       "[(290925436,\n",
       "  2022130,\n",
       "  'yiting1211',\n",
       "  'iPhone保護殼',\n",
       "  '可超取iphone6__iphone6S_47吋_迪士尼_米奇放大鏡_軟殼_手機殼',\n",
       "  0,\n",
       "  9.0,\n",
       "  100,\n",
       "  0,\n",
       "  0.0,\n",
       "  0,\n",
       "  0,\n",
       "  0,\n",
       "  'https://shopee.tw/%E3%80%90%E5%8F%AF%E8%B6%85%E5%8F%96%E3%80%91iphone6-iphone6S-(4.7%E5%90%8B)-%E8%BF%AA%E5%A3%AB%E5%B0%BC-%E7%B1%B3%E5%A5%87%E6%94%BE%E5%A4%A7%E9%8F%A1-%E8%BB%9F%E6%AE%BC-%E6%89%8B%E6%A9%9F%E6%AE%BC-i.2022130.290925436',\n",
       "  '可超取iphone6__iphone6S_47吋_迪士尼_米奇放大鏡_軟殼_手機殼售價150元',\n",
       "  datetime.datetime(2018, 4, 1, 0, 0)),\n",
       " (1008696376,\n",
       "  59323996,\n",
       "  'kaixina',\n",
       "  'Android保護殼',\n",
       "  '潮流女神欧美爆款日韩名媛潮英伦学院风摇滚庞克仿旧百搭厚底坡跟涼鞋夏2017韓版新款羅馬鞋超高跟防水臺鏤空甜美露趾女鞋',\n",
       "  '#女鞋#歐美#羅馬風格#簡約#小白鞋#英倫#韓版#休閒鞋#粗跟#綁帶#高跟鞋#復古#運動鞋#洞洞鞋#平底鞋#帆布鞋#拖鞋#涼鞋',\n",
       "  4.3,\n",
       "  800,\n",
       "  0,\n",
       "  0.0,\n",
       "  0,\n",
       "  120,\n",
       "  -1,\n",
       "  'https://shopee.tw/%E6%BD%AE%E6%B5%81%E5%A5%B3%E7%A5%9E%E6%AC%A7%E7%BE%8E%E7%88%86%E6%AC%BE%E6%97%A5%E9%9F%A9%E5%90%8D%E5%AA%9B%E6%BD%AE%E8%8B%B1%E4%BC%A6%E5%AD%A6%E9%99%A2%E9%A3%8E%E6%91%87%E6%BB%9A%E5%BA%9E%E5%85%8B%E4%BB%BF%E6%97%A7%E7%99%BE%E6%90%AD%E5%8E%9A%E5%BA%95%E5%9D%A1%E8%B7%9F%E6%B6%BC%E9%9E%8B%E5%A4%8F2017%E9%9F%93%E7%89%88%E6%96%B0%E6%AC%BE%E7%BE%85%E9%A6%AC%E9%9E%8B%E8%B6%85%E9%AB%98%E8%B7%9F%E9%98%B2%E6%B0%B4%E8%87%BA%E9%8F%A4%E7%A9%BA%E7%94%9C%E7%BE%8E%E9%9C%B2%E8%B6%BE%E5%A5%B3%E9%9E%8B-i.59323996.1008696376',\n",
       "  '_',\n",
       "  datetime.datetime(2018, 4, 1, 0, 0)),\n",
       " (244935440,\n",
       "  7338131,\n",
       "  'vawa31',\n",
       "  'iPhone充電傳輸',\n",
       "  '微型商店Jetart_Lightning_USB_強化傳輸線15m_IPHONE_充電線_CAA220',\n",
       "  0,\n",
       "  4.3,\n",
       "  499,\n",
       "  0,\n",
       "  0.0,\n",
       "  0,\n",
       "  99,\n",
       "  -1,\n",
       "  'https://shopee.tw/%E3%80%90%E5%BE%AE%E5%9E%8B%E5%95%86%E5%BA%97%E3%80%91Jetart-Lightning-USB-%E5%BC%B7%E5%8C%96%E5%82%B3%E8%BC%B8%E7%B7%9A1.5m-IPHONE-%E5%85%85%E9%9B%BB%E7%B7%9A-CAA220-i.7338131.244935440',\n",
       "  '商品說明_Jetart_Lightning_to_USB強化傳輸線_APPLE認證授權型號CAA220捷藝科技成立於1989年以全系列電腦散熱器及電腦週邊產品為營運重心於2001年通過ISO9001之品質管理認證並於2005年建立_JETART_自有品牌行銷台灣及全球通路市場為貫徹品質服務創新的核心精神我們以台灣為主要生產基地從研發製造到全球行銷一貫作業秉持不斷創新之研發精神我們至今已擁有數百項產品除了取得超過百項新型及發明專利外並已通過眾多國際品牌大廠之代工認證我們重視每一個產品的設計環節製造技術及品質管控使得每一個從捷藝科技出廠的產品都能以最佳品質滿足客戶的需求產品特色小型插座模組設計傳輸充電兩用功能Lightning_可雙面插接支援iOS_8以上版本強化耐拉拔超優質鋁合金外殼_商品規格_產品重量22_g長度15m顏色鐵灰色__黑線外殼材質鋁合金國際條碼4711182335731PS_下標時請註明顏色若無則隨機出貨資料來源Jetart商品圖檔顏色因電腦螢幕設定差異會略有不同以實際商品顏色為準_以上規格資料若有任何錯誤以原廠所公佈資料為準__微型商店_c_All_rights_reserved',\n",
       "  datetime.datetime(2018, 4, 1, 0, 0))]"
      ]
     },
     "execution_count": 8,
     "metadata": {},
     "output_type": "execute_result"
    }
   ],
   "source": [
    "productRDD = productRDD.filter(lambda line: line[0]!=\"item_id\")\n",
    "productRDD.take(3)"
   ]
  },
  {
   "cell_type": "code",
   "execution_count": 9,
   "metadata": {},
   "outputs": [
    {
     "name": "stdout",
     "output_type": "stream",
     "text": [
      "+----------+--------+----------+-------------+--------------------+--------------------+--------+-----+----+---------+---------+-----+--------+--------------------+--------------------+-----------+\n",
      "|   item_id| shop_id| shop_name|category_name|                name|             hashtag|trade_in|price|sale|score_avg|score_num|stock|need_day|                 url|             content|update_time|\n",
      "+----------+--------+----------+-------------+--------------------+--------------------+--------+-----+----+---------+---------+-----+--------+--------------------+--------------------+-----------+\n",
      "| 290925436| 2022130|yiting1211|    iPhone保護殼|可超取iphone6__iphon...|                   0|     9.0|  100|   0|      0.0|        0|    0|       0|https://shopee.tw...|可超取iphone6__iphon...| 2018-04-01|\n",
      "|1008696376|59323996|   kaixina|   Android保護殼|潮流女神欧美爆款日韩名媛潮英伦学院...|#女鞋#歐美#羅馬風格#簡約#小白...|     4.3|  800|   0|      0.0|        0|  120|      -1|https://shopee.tw...|                   _| 2018-04-01|\n",
      "| 244935440| 7338131|    vawa31|   iPhone充電傳輸|微型商店Jetart_Lightn...|                   0|     4.3|  499|   0|      0.0|        0|   99|      -1|https://shopee.tw...|商品說明_Jetart_Light...| 2018-04-01|\n",
      "+----------+--------+----------+-------------+--------------------+--------------------+--------+-----+----+---------+---------+-----+--------+--------------------+--------------------+-----------+\n",
      "only showing top 3 rows\n",
      "\n"
     ]
    }
   ],
   "source": [
    "productDF = spark.createDataFrame(productRDD, productSchema)\n",
    "productDF.show(3)"
   ]
  },
  {
   "cell_type": "code",
   "execution_count": 10,
   "metadata": {},
   "outputs": [
    {
     "data": {
      "text/plain": [
       "169992"
      ]
     },
     "execution_count": 10,
     "metadata": {},
     "output_type": "execute_result"
    }
   ],
   "source": [
    "productDF.count()"
   ]
  },
  {
   "cell_type": "code",
   "execution_count": 11,
   "metadata": {},
   "outputs": [],
   "source": [
    "dataRDD = productDF.select(\"item_id\", \"category_name\", \"name\", \"price\", \"sale\", \"score_avg\", \"score_num\", \"stock\", \"update_time\")"
   ]
  },
  {
   "cell_type": "code",
   "execution_count": 12,
   "metadata": {},
   "outputs": [
    {
     "data": {
      "text/plain": [
       "[Row(item_id=290925436, category_name='iPhone保護殼', name='可超取iphone6__iphone6S_47吋_迪士尼_米奇放大鏡_軟殼_手機殼', price=100, sale=0, score_avg=0.0, score_num=0, stock=0, update_time=datetime.date(2018, 4, 1)),\n",
       " Row(item_id=1008696376, category_name='Android保護殼', name='潮流女神欧美爆款日韩名媛潮英伦学院风摇滚庞克仿旧百搭厚底坡跟涼鞋夏2017韓版新款羅馬鞋超高跟防水臺鏤空甜美露趾女鞋', price=800, sale=0, score_avg=0.0, score_num=0, stock=120, update_time=datetime.date(2018, 4, 1)),\n",
       " Row(item_id=244935440, category_name='iPhone充電傳輸', name='微型商店Jetart_Lightning_USB_強化傳輸線15m_IPHONE_充電線_CAA220', price=499, sale=0, score_avg=0.0, score_num=0, stock=99, update_time=datetime.date(2018, 4, 1))]"
      ]
     },
     "execution_count": 12,
     "metadata": {},
     "output_type": "execute_result"
    }
   ],
   "source": [
    "dataRDD.rdd.take(3)"
   ]
  },
  {
   "cell_type": "markdown",
   "metadata": {},
   "source": [
    "# 依據id找出id中最大月銷量與最小月銷量"
   ]
  },
  {
   "cell_type": "code",
   "execution_count": 13,
   "metadata": {},
   "outputs": [
    {
     "data": {
      "text/plain": [
       "169992"
      ]
     },
     "execution_count": 13,
     "metadata": {},
     "output_type": "execute_result"
    }
   ],
   "source": [
    "itemSaleDataRDD = dataRDD.rdd.map(lambda x: (x[0], x[4]))\n",
    "itemSaleDataRDD.count()"
   ]
  },
  {
   "cell_type": "code",
   "execution_count": 14,
   "metadata": {},
   "outputs": [
    {
     "data": {
      "text/plain": [
       "[(290925436, 0), (1008696376, 0), (244935440, 0)]"
      ]
     },
     "execution_count": 14,
     "metadata": {},
     "output_type": "execute_result"
    }
   ],
   "source": [
    "itemSaleDataRDD.take(3)"
   ]
  },
  {
   "cell_type": "code",
   "execution_count": 15,
   "metadata": {},
   "outputs": [
    {
     "data": {
      "text/plain": [
       "70408"
      ]
     },
     "execution_count": 15,
     "metadata": {},
     "output_type": "execute_result"
    }
   ],
   "source": [
    "itemMaxSaleDataRDD = itemSaleDataRDD.reduceByKey(max)\n",
    "itemMaxSaleDataRDD.count()"
   ]
  },
  {
   "cell_type": "code",
   "execution_count": 16,
   "metadata": {},
   "outputs": [
    {
     "data": {
      "text/plain": [
       "70408"
      ]
     },
     "execution_count": 16,
     "metadata": {},
     "output_type": "execute_result"
    }
   ],
   "source": [
    "itemMinSaleDataRDD = itemSaleDataRDD.reduceByKey(min)\n",
    "itemMinSaleDataRDD.count()"
   ]
  },
  {
   "cell_type": "code",
   "execution_count": 17,
   "metadata": {},
   "outputs": [
    {
     "data": {
      "text/plain": [
       "70408"
      ]
     },
     "execution_count": 17,
     "metadata": {},
     "output_type": "execute_result"
    }
   ],
   "source": [
    "itemMonSaleDataRDD = itemMaxSaleDataRDD.join(itemMinSaleDataRDD)\n",
    "itemMonSaleDataRDD.count()"
   ]
  },
  {
   "cell_type": "code",
   "execution_count": 18,
   "metadata": {},
   "outputs": [
    {
     "data": {
      "text/plain": [
       "[(469012152, (0, 0)), (545299512, (0, 0)), (862832544, (0, 0))]"
      ]
     },
     "execution_count": 18,
     "metadata": {},
     "output_type": "execute_result"
    }
   ],
   "source": [
    "itemMonSaleDataRDD.take(3)"
   ]
  },
  {
   "cell_type": "code",
   "execution_count": null,
   "metadata": {},
   "outputs": [],
   "source": [
    "itemCatDataRDD = dataRDD.select(\"item_id\", \"name\").rdd.distinct()\n",
    "itemCatDataRDD.count()"
   ]
  },
  {
   "cell_type": "code",
   "execution_count": 13,
   "metadata": {},
   "outputs": [
    {
     "data": {
      "text/plain": [
       "70412"
      ]
     },
     "execution_count": 13,
     "metadata": {},
     "output_type": "execute_result"
    }
   ],
   "source": [
    "itemNameDataRDD = dataRDD.select(\"item_id\", \"category_name\").distinct().rdd\n",
    "itemNameDataRDD.count()"
   ]
  },
  {
   "cell_type": "code",
   "execution_count": 16,
   "metadata": {},
   "outputs": [
    {
     "data": {
      "text/plain": [
       "[(975556617, ['掌上型電玩', '行動電源']),\n",
       " (1007626624, ['行動電源', '汽車百貨']),\n",
       " (1018676515, ['影音設備', '耳機喇叭']),\n",
       " (29332776, ['平板電腦', '其他'])]"
      ]
     },
     "execution_count": 16,
     "metadata": {},
     "output_type": "execute_result"
    }
   ],
   "source": [
    "itemNameDataRDD.groupByKey().map(lambda x: (x[0], list(x[1]))).filter(lambda x: len(x[1])>1).collect()"
   ]
  }
 ],
 "metadata": {
  "kernelspec": {
   "display_name": "Python 3",
   "language": "python",
   "name": "python3"
  },
  "language_info": {
   "codemirror_mode": {
    "name": "ipython",
    "version": 3
   },
   "file_extension": ".py",
   "mimetype": "text/x-python",
   "name": "python",
   "nbconvert_exporter": "python",
   "pygments_lexer": "ipython3",
   "version": "3.6.3"
  }
 },
 "nbformat": 4,
 "nbformat_minor": 2
}
