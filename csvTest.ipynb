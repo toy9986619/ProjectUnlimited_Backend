{
 "cells": [
  {
   "cell_type": "code",
   "execution_count": 5,
   "metadata": {},
   "outputs": [],
   "source": [
    "import pyspark\n",
    "from pyspark.sql import SparkSession\n",
    "sc = pyspark.SparkContext('local[*]')\n",
    "spark = SparkSession.builder.appName(\"csvTest\").getOrCreate()"
   ]
  },
  {
   "cell_type": "code",
   "execution_count": 11,
   "metadata": {},
   "outputs": [],
   "source": [
    "global Path\n",
    "if sc.master[0:5] == \"local\":\n",
    "    Path = \"file:/home/jovyan/work/csvData/\"\n",
    "else:\n",
    "    Path = \"hdfs:/user/zeppelin/csvData/\""
   ]
  },
  {
   "cell_type": "code",
   "execution_count": 58,
   "metadata": {},
   "outputs": [],
   "source": [
    "from operator import add"
   ]
  },
  {
   "cell_type": "code",
   "execution_count": 7,
   "metadata": {},
   "outputs": [],
   "source": [
    "from pyspark.sql.types import StructType, StructField, IntegerType, StringType, DateType"
   ]
  },
  {
   "cell_type": "code",
   "execution_count": 12,
   "metadata": {},
   "outputs": [],
   "source": [
    "schema = StructType([\n",
    "    StructField(\"id\", IntegerType(), True),\n",
    "    StructField(\"product\", StringType(), True),\n",
    "    StructField(\"kind\", StringType(), True),\n",
    "    StructField(\"category\", StringType(), True),\n",
    "    StructField(\"price\", IntegerType(), True),\n",
    "    StructField(\"url\", StringType(), True),\n",
    "    StructField(\"website\", StringType(), True),\n",
    "    StructField(\"picture\", StringType(), True),\n",
    "    StructField(\"update_time\", DateType(), True)])\n",
    "\n",
    "df = spark.read.csv(Path+\"test.csv\",header=False,schema=schema)"
   ]
  },
  {
   "cell_type": "code",
   "execution_count": 35,
   "metadata": {},
   "outputs": [
    {
     "name": "stdout",
     "output_type": "stream",
     "text": [
      "+---+--------------------+----+--------+-----+--------------------+-------+--------------------+-----------+\n",
      "| id|             product|kind|category|price|                 url|website|             picture|update_time|\n",
      "+---+--------------------+----+--------+-----+--------------------+-------+--------------------+-----------+\n",
      "|  1|纯木竹浆卫生纸本色纸抽纸面巾妇婴餐...| 衛生紙|    日常用品|    1|//item.taobao.com...|     淘寶|//g-search3.alicd...| 2017-07-17|\n",
      "|  2|包邮 百慧2800克实惠装家用无芯...| 衛生紙|    日常用品|    1|//item.taobao.com...|     淘寶|//g-search2.alicd...| 2017-07-17|\n",
      "|  3|理文 本色纸抽纸原生竹浆纤维纸婴儿...| 衛生紙|    日常用品|    1|//item.taobao.com...|     淘寶|//g-search3.alicd...| 2017-07-17|\n",
      "|  4|女主角卫生纸卷筒纸原生浆纸家用厕纸...| 衛生紙|    日常用品|    1|//item.taobao.com...|     淘寶|//g-search2.alicd...| 2017-07-17|\n",
      "|  5|家庭装24包抽纸整箱厕纸面巾纸卫生...| 衛生紙|    日常用品|    1|//item.taobao.com...|     淘寶|//g-search3.alicd...| 2017-07-17|\n",
      "+---+--------------------+----+--------+-----+--------------------+-------+--------------------+-----------+\n",
      "only showing top 5 rows\n",
      "\n"
     ]
    }
   ],
   "source": [
    "df.show(5)"
   ]
  },
  {
   "cell_type": "code",
   "execution_count": 13,
   "metadata": {},
   "outputs": [
    {
     "name": "stdout",
     "output_type": "stream",
     "text": [
      "+-----+--------------------+----+--------+-----+--------------------+-------+--------------------+-----------+\n",
      "|   id|             product|kind|category|price|                 url|website|             picture|update_time|\n",
      "+-----+--------------------+----+--------+-----+--------------------+-------+--------------------+-----------+\n",
      "|13453|【限時免運 可充電防水 背包 】書...|  背包|    外出用品|  565|https://tw.bid.ya...|     Y拍|//nevec-img.zenfs...| 2017-07-17|\n",
      "|13454|{日差} 高端STAMPD MCM...|  背包|    外出用品| 1680|https://tw.bid.ya...|     Y拍|//nevec-img.zenfs...| 2017-07-17|\n",
      "|13455|《生活專科》空運直送正品✈日本樂天...|  背包|    外出用品|  745|https://tw.bid.ya...|     Y拍|//nevec-img.zenfs...| 2017-07-17|\n",
      "|13456|【Matchwood直營】Matc...|  背包|    外出用品| 1780|https://tw.bid.ya...|     Y拍|//nevec-img.zenfs...| 2017-07-17|\n",
      "|13457|英國 JUST Hype 雙肩包 ...|  背包|    外出用品|  750|https://tw.bid.ya...|     Y拍|//nevec-img.zenfs...| 2017-07-17|\n",
      "+-----+--------------------+----+--------+-----+--------------------+-------+--------------------+-----------+\n",
      "only showing top 5 rows\n",
      "\n"
     ]
    }
   ],
   "source": [
    "bagdf = df.filter(\"kind='背包' and website='Y拍'\")\n",
    "bagdf.show(5)"
   ]
  },
  {
   "cell_type": "code",
   "execution_count": 30,
   "metadata": {},
   "outputs": [
    {
     "name": "stdout",
     "output_type": "stream",
     "text": [
      "+--------+-----+\n",
      "|category|count|\n",
      "+--------+-----+\n",
      "|    外出用品|   60|\n",
      "+--------+-----+\n",
      "\n"
     ]
    }
   ],
   "source": [
    "bagdf.groupBy('category').count().show()"
   ]
  },
  {
   "cell_type": "code",
   "execution_count": 37,
   "metadata": {},
   "outputs": [
    {
     "data": {
      "text/plain": [
       "60"
      ]
     },
     "execution_count": 37,
     "metadata": {},
     "output_type": "execute_result"
    }
   ],
   "source": [
    "bagdf.select(\"product\").rdd.distinct().count()"
   ]
  },
  {
   "cell_type": "code",
   "execution_count": 39,
   "metadata": {},
   "outputs": [
    {
     "data": {
      "text/plain": [
       "[Row(price=565),\n",
       " Row(price=1680),\n",
       " Row(price=745),\n",
       " Row(price=1780),\n",
       " Row(price=750)]"
      ]
     },
     "execution_count": 39,
     "metadata": {},
     "output_type": "execute_result"
    }
   ],
   "source": [
    "bagPriceRdd = bagdf.select(\"price\").rdd\n",
    "bagPriceRdd.take(5)"
   ]
  },
  {
   "cell_type": "code",
   "execution_count": 41,
   "metadata": {},
   "outputs": [
    {
     "data": {
      "text/plain": [
       "[(565, 1),\n",
       " (1680, 3),\n",
       " (745, 1),\n",
       " (1780, 1),\n",
       " (750, 2),\n",
       " (599, 1),\n",
       " (780, 2),\n",
       " (790, 3),\n",
       " (2980, 2),\n",
       " (350, 2),\n",
       " (450, 2),\n",
       " (999, 1),\n",
       " (439, 1),\n",
       " (980, 1),\n",
       " (490, 2),\n",
       " (288, 1),\n",
       " (70, 1),\n",
       " (1280, 2),\n",
       " (109, 1),\n",
       " (139, 1),\n",
       " (140, 1),\n",
       " (900, 1),\n",
       " (180, 1),\n",
       " (420, 1),\n",
       " (300, 1),\n",
       " (1150, 1),\n",
       " (1880, 1),\n",
       " (990, 1),\n",
       " (199, 1),\n",
       " (1299, 1),\n",
       " (1199, 1),\n",
       " (1899, 1),\n",
       " (799, 1),\n",
       " (2180, 1),\n",
       " (880, 1),\n",
       " (2800, 1),\n",
       " (299, 1),\n",
       " (579, 1),\n",
       " (1980, 1),\n",
       " (1480, 1),\n",
       " (1790, 1),\n",
       " (8400, 1),\n",
       " (6200, 1),\n",
       " (7300, 1),\n",
       " (7001, 1),\n",
       " (7800, 1),\n",
       " (5600, 1),\n",
       " (3050, 1),\n",
       " (4050, 1)]"
      ]
     },
     "execution_count": 41,
     "metadata": {},
     "output_type": "execute_result"
    }
   ],
   "source": [
    "bagPriceCountRdd = bagPriceRdd.map(lambda x: (x['price'], 1))\n",
    "bagPriceCountRdd.reduceByKey(lambda x,y: x+y).collect()"
   ]
  },
  {
   "cell_type": "code",
   "execution_count": 52,
   "metadata": {},
   "outputs": [],
   "source": [
    "def priceRange(x):\n",
    "    if 0<=x<1000:\n",
    "        xrange = \"未滿1000\"\n",
    "    elif 1000<=x<3000:\n",
    "        xrange = \"1000~3000\"\n",
    "    elif 3000<=x<5000:\n",
    "        xrange = \"3000~5000\"\n",
    "    elif 5000<x:\n",
    "        xrange = \"5000以上\"\n",
    "    else:\n",
    "        xrange = str(x)\n",
    "        \n",
    "    return xrange"
   ]
  },
  {
   "cell_type": "code",
   "execution_count": 57,
   "metadata": {},
   "outputs": [
    {
     "data": {
      "text/plain": [
       "[('未滿1000', 34), ('1000~3000', 18), ('5000以上', 6), ('3000~5000', 2)]"
      ]
     },
     "execution_count": 57,
     "metadata": {},
     "output_type": "execute_result"
    }
   ],
   "source": [
    "bagPriceRangeRDD = bagPriceCountRdd.map(lambda x: (priceRange(x[0]), x[1]))\n",
    "bagPriceRangeRDD.reduceByKey(lambda x,y: x+y).collect()"
   ]
  },
  {
   "cell_type": "code",
   "execution_count": 59,
   "metadata": {},
   "outputs": [
    {
     "data": {
      "text/plain": [
       "(8400, 1)"
      ]
     },
     "execution_count": 59,
     "metadata": {},
     "output_type": "execute_result"
    }
   ],
   "source": [
    "bagPriceMax = bagPriceCountRdd.max(lambda x: x[0])\n",
    "bagPriceMax"
   ]
  },
  {
   "cell_type": "code",
   "execution_count": 60,
   "metadata": {},
   "outputs": [
    {
     "data": {
      "text/plain": [
       "(70, 1)"
      ]
     },
     "execution_count": 60,
     "metadata": {},
     "output_type": "execute_result"
    }
   ],
   "source": [
    "bagPriceMin = bagPriceCountRdd.min(lambda x: x[0])\n",
    "bagPriceMin"
   ]
  },
  {
   "cell_type": "code",
   "execution_count": 68,
   "metadata": {},
   "outputs": [
    {
     "data": {
      "text/plain": [
       "1683.7833333333333"
      ]
     },
     "execution_count": 68,
     "metadata": {},
     "output_type": "execute_result"
    }
   ],
   "source": [
    "total = sc.accumulator(0.0)\n",
    "num = sc.accumulator(0)\n",
    "bagPriceCountRdd.map(lambda x: x[0]).foreach(lambda I: [total.add(I), num.add(1)])\n",
    "bagPriceAvg = total.value / num.value\n",
    "bagPriceAvg"
   ]
  },
  {
   "cell_type": "code",
   "execution_count": null,
   "metadata": {},
   "outputs": [],
   "source": []
  },
  {
   "cell_type": "code",
   "execution_count": null,
   "metadata": {},
   "outputs": [],
   "source": []
  }
 ],
 "metadata": {
  "kernelspec": {
   "display_name": "Python 3",
   "language": "python",
   "name": "python3"
  },
  "language_info": {
   "codemirror_mode": {
    "name": "ipython",
    "version": 3
   },
   "file_extension": ".py",
   "mimetype": "text/x-python",
   "name": "python",
   "nbconvert_exporter": "python",
   "pygments_lexer": "ipython3",
   "version": "3.6.3"
  }
 },
 "nbformat": 4,
 "nbformat_minor": 2
}
