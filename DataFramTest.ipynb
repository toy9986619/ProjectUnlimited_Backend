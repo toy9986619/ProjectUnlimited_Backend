{
 "cells": [
  {
   "cell_type": "code",
   "execution_count": 1,
   "metadata": {
    "collapsed": true
   },
   "outputs": [],
   "source": [
    "global Path\n",
    "if sc.master[0:5] == \"local\":\n",
    "    Path = \"file:/home/zeppelin/data/ml100k_dataset/\"\n",
    "else:\n",
    "    Path = \"hdfs:/user/zeppelin/ml100k_dataset/\""
   ]
  },
  {
   "cell_type": "code",
   "execution_count": 2,
   "metadata": {},
   "outputs": [
    {
     "data": {
      "text/plain": [
       "943"
      ]
     },
     "execution_count": 2,
     "metadata": {},
     "output_type": "execute_result"
    }
   ],
   "source": [
    "RawUserRDD = sc.textFile(Path+\"u.user\")\n",
    "RawUserRDD.count()"
   ]
  },
  {
   "cell_type": "code",
   "execution_count": 3,
   "metadata": {},
   "outputs": [
    {
     "data": {
      "text/plain": [
       "['1|24|M|technician|85711',\n",
       " '2|53|F|other|94043',\n",
       " '3|23|M|writer|32067',\n",
       " '4|24|M|technician|43537',\n",
       " '5|33|F|other|15213']"
      ]
     },
     "execution_count": 3,
     "metadata": {},
     "output_type": "execute_result"
    }
   ],
   "source": [
    "RawUserRDD.take(5)"
   ]
  },
  {
   "cell_type": "code",
   "execution_count": 4,
   "metadata": {},
   "outputs": [
    {
     "data": {
      "text/plain": [
       "[['1', '24', 'M', 'technician', '85711'],\n",
       " ['2', '53', 'F', 'other', '94043'],\n",
       " ['3', '23', 'M', 'writer', '32067'],\n",
       " ['4', '24', 'M', 'technician', '43537'],\n",
       " ['5', '33', 'F', 'other', '15213']]"
      ]
     },
     "execution_count": 4,
     "metadata": {},
     "output_type": "execute_result"
    }
   ],
   "source": [
    "userRDD = RawUserRDD.map(lambda line: line.split(\"|\"))\n",
    "userRDD.take(5)"
   ]
  },
  {
   "cell_type": "markdown",
   "metadata": {},
   "source": [
    "# 建立DataFrame"
   ]
  },
  {
   "cell_type": "code",
   "execution_count": 5,
   "metadata": {
    "collapsed": true
   },
   "outputs": [],
   "source": [
    "#from pyspark.sql import SQLContext\n",
    "#sqlContext = SQLContext(sc)\n",
    "\n",
    "# 內建sqlCtx"
   ]
  },
  {
   "cell_type": "code",
   "execution_count": 6,
   "metadata": {},
   "outputs": [
    {
     "data": {
      "text/plain": [
       "[Row(age=24, gender='M', occupation='technician', userid=1, zipcode='85711'),\n",
       " Row(age=53, gender='F', occupation='other', userid=2, zipcode='94043'),\n",
       " Row(age=23, gender='M', occupation='writer', userid=3, zipcode='32067'),\n",
       " Row(age=24, gender='M', occupation='technician', userid=4, zipcode='43537'),\n",
       " Row(age=33, gender='F', occupation='other', userid=5, zipcode='15213')]"
      ]
     },
     "execution_count": 6,
     "metadata": {},
     "output_type": "execute_result"
    }
   ],
   "source": [
    "from pyspark.sql import Row\n",
    "user_Rows = userRDD.map(lambda p:\n",
    "    Row(\n",
    "        userid = int(p[0]),\n",
    "        age = int(p[1]),\n",
    "        gender = p[2],\n",
    "        occupation = p[3],\n",
    "        zipcode = p[4]\n",
    "    )\n",
    ")\n",
    "\n",
    "user_Rows.take(5)"
   ]
  },
  {
   "cell_type": "code",
   "execution_count": 7,
   "metadata": {},
   "outputs": [
    {
     "name": "stdout",
     "output_type": "stream",
     "text": [
      "root\n",
      " |-- age: long (nullable = true)\n",
      " |-- gender: string (nullable = true)\n",
      " |-- occupation: string (nullable = true)\n",
      " |-- userid: long (nullable = true)\n",
      " |-- zipcode: string (nullable = true)\n",
      "\n"
     ]
    }
   ],
   "source": [
    "user_df = sqlCtx.createDataFrame(user_Rows)\n",
    "user_df.printSchema()"
   ]
  },
  {
   "cell_type": "code",
   "execution_count": 8,
   "metadata": {},
   "outputs": [
    {
     "name": "stdout",
     "output_type": "stream",
     "text": [
      "+---+------+----------+------+-------+\n",
      "|age|gender|occupation|userid|zipcode|\n",
      "+---+------+----------+------+-------+\n",
      "| 24|     M|technician|     1|  85711|\n",
      "| 53|     F|     other|     2|  94043|\n",
      "| 23|     M|    writer|     3|  32067|\n",
      "| 24|     M|technician|     4|  43537|\n",
      "| 33|     F|     other|     5|  15213|\n",
      "+---+------+----------+------+-------+\n",
      "only showing top 5 rows\n",
      "\n"
     ]
    }
   ],
   "source": [
    "user_df.show(5)"
   ]
  },
  {
   "cell_type": "code",
   "execution_count": 10,
   "metadata": {
    "collapsed": true
   },
   "outputs": [],
   "source": [
    "udf = user_df.alias(\"udf\")"
   ]
  },
  {
   "cell_type": "code",
   "execution_count": 11,
   "metadata": {
    "collapsed": true
   },
   "outputs": [],
   "source": [
    "udf.registerTempTable(\"user_table\")"
   ]
  },
  {
   "cell_type": "code",
   "execution_count": 13,
   "metadata": {},
   "outputs": [
    {
     "name": "stdout",
     "output_type": "stream",
     "text": [
      "+------+\n",
      "|counts|\n",
      "+------+\n",
      "|   943|\n",
      "+------+\n",
      "\n"
     ]
    }
   ],
   "source": [
    "sqlCtx.sql(\"\"\"\n",
    "SELECT count(*) counts \n",
    "FROM user_table\n",
    "\"\"\").show()"
   ]
  },
  {
   "cell_type": "code",
   "execution_count": 14,
   "metadata": {},
   "outputs": [
    {
     "name": "stdout",
     "output_type": "stream",
     "text": [
      "+---+------+-------------+------+-------+\n",
      "|age|gender|   occupation|userid|zipcode|\n",
      "+---+------+-------------+------+-------+\n",
      "| 24|     M|   technician|     1|  85711|\n",
      "| 53|     F|        other|     2|  94043|\n",
      "| 23|     M|       writer|     3|  32067|\n",
      "| 24|     M|   technician|     4|  43537|\n",
      "| 33|     F|        other|     5|  15213|\n",
      "| 42|     M|    executive|     6|  98101|\n",
      "| 57|     M|administrator|     7|  91344|\n",
      "| 36|     M|administrator|     8|  05201|\n",
      "| 29|     M|      student|     9|  01002|\n",
      "| 53|     M|       lawyer|    10|  90703|\n",
      "| 39|     F|        other|    11|  30329|\n",
      "| 28|     F|        other|    12|  06405|\n",
      "| 47|     M|     educator|    13|  29206|\n",
      "| 45|     M|    scientist|    14|  55106|\n",
      "| 49|     F|     educator|    15|  97301|\n",
      "| 21|     M|entertainment|    16|  10309|\n",
      "| 30|     M|   programmer|    17|  06355|\n",
      "| 35|     F|        other|    18|  37212|\n",
      "| 40|     M|    librarian|    19|  02138|\n",
      "| 42|     F|    homemaker|    20|  95660|\n",
      "+---+------+-------------+------+-------+\n",
      "only showing top 20 rows\n",
      "\n"
     ]
    }
   ],
   "source": [
    "sqlCtx.sql(\"SELECT * FROM user_table\").show()"
   ]
  },
  {
   "cell_type": "code",
   "execution_count": 15,
   "metadata": {},
   "outputs": [
    {
     "name": "stdout",
     "output_type": "stream",
     "text": [
      "+------+----------+------+---+\n",
      "|userid|occupation|gender|age|\n",
      "+------+----------+------+---+\n",
      "|     1|technician|     M| 24|\n",
      "|     2|     other|     F| 53|\n",
      "|     3|    writer|     M| 23|\n",
      "|     4|technician|     M| 24|\n",
      "|     5|     other|     F| 33|\n",
      "+------+----------+------+---+\n",
      "only showing top 5 rows\n",
      "\n"
     ]
    }
   ],
   "source": [
    "df.select(\"userid\", \"occupation\", \"gender\", \"age\").show(5)"
   ]
  },
  {
   "cell_type": "code",
   "execution_count": 17,
   "metadata": {},
   "outputs": [
    {
     "data": {
      "text/plain": [
       "[Row(age=24, gender='M', occupation='technician', userid=1, zipcode='85711'),\n",
       " Row(age=53, gender='F', occupation='other', userid=2, zipcode='94043'),\n",
       " Row(age=23, gender='M', occupation='writer', userid=3, zipcode='32067'),\n",
       " Row(age=24, gender='M', occupation='technician', userid=4, zipcode='43537'),\n",
       " Row(age=33, gender='F', occupation='other', userid=5, zipcode='15213')]"
      ]
     },
     "execution_count": 17,
     "metadata": {},
     "output_type": "execute_result"
    }
   ],
   "source": [
    "df.rdd.take(5)"
   ]
  },
  {
   "cell_type": "code",
   "execution_count": 18,
   "metadata": {},
   "outputs": [
    {
     "name": "stdout",
     "output_type": "stream",
     "text": [
      "+------+----------+------+---+---------+\n",
      "|userid|occupation|gender|age|birthYear|\n",
      "+------+----------+------+---+---------+\n",
      "|     1|technician|     M| 24|     1993|\n",
      "|     2|     other|     F| 53|     1964|\n",
      "|     3|    writer|     M| 23|     1994|\n",
      "|     4|technician|     M| 24|     1993|\n",
      "|     5|     other|     F| 33|     1984|\n",
      "+------+----------+------+---+---------+\n",
      "only showing top 5 rows\n",
      "\n"
     ]
    }
   ],
   "source": [
    "df.select(\"userid\", \"occupation\", \"gender\", \"age\", (2017-df.age).alias(\"birthYear\")).show(5)"
   ]
  },
  {
   "cell_type": "code",
   "execution_count": 20,
   "metadata": {},
   "outputs": [
    {
     "name": "stdout",
     "output_type": "stream",
     "text": [
      "+---+------+----------+------+-------+\n",
      "|age|gender|occupation|userid|zipcode|\n",
      "+---+------+----------+------+-------+\n",
      "| 24|     M|technician|     1|  85711|\n",
      "| 24|     M|technician|     4|  43537|\n",
      "| 24|     M|technician|   456|  31820|\n",
      "| 24|     M|technician|   717|  84105|\n",
      "| 24|     M|technician|   832|  77042|\n",
      "| 24|     M|technician|   889|  78704|\n",
      "+---+------+----------+------+-------+\n",
      "\n"
     ]
    }
   ],
   "source": [
    "df.filter(\"occupation='technician' and gender='M' and age=24\").show()"
   ]
  },
  {
   "cell_type": "code",
   "execution_count": 22,
   "metadata": {},
   "outputs": [
    {
     "name": "stdout",
     "output_type": "stream",
     "text": [
      "+---+------+\n",
      "|age|gender|\n",
      "+---+------+\n",
      "| 39|     F|\n",
      "| 48|     M|\n",
      "| 26|     M|\n",
      "| 28|     M|\n",
      "| 54|     M|\n",
      "| 60|     M|\n",
      "| 50|     M|\n",
      "| 53|     F|\n",
      "| 30|     M|\n",
      "| 48|     F|\n",
      "| 47|     M|\n",
      "| 46|     M|\n",
      "| 56|     M|\n",
      "| 32|     M|\n",
      "| 31|     M|\n",
      "| 53|     M|\n",
      "| 20|     F|\n",
      "| 29|     F|\n",
      "| 21|     F|\n",
      "| 42|     M|\n",
      "+---+------+\n",
      "only showing top 20 rows\n",
      "\n"
     ]
    }
   ],
   "source": [
    "df.select(\"age\", \"gender\").distinct().show()"
   ]
  },
  {
   "cell_type": "code",
   "execution_count": 23,
   "metadata": {},
   "outputs": [
    {
     "name": "stdout",
     "output_type": "stream",
     "text": [
      "+------+-----+\n",
      "|gender|count|\n",
      "+------+-----+\n",
      "|     F|  273|\n",
      "|     M|  670|\n",
      "+------+-----+\n",
      "\n"
     ]
    }
   ],
   "source": [
    "df.select(\"gender\").groupby(\"gender\").count().show()"
   ]
  },
  {
   "cell_type": "code",
   "execution_count": 24,
   "metadata": {},
   "outputs": [
    {
     "name": "stdout",
     "output_type": "stream",
     "text": [
      "+------+-------------+-----+\n",
      "|gender|   occupation|count|\n",
      "+------+-------------+-----+\n",
      "|     F|administrator|   36|\n",
      "|     F|       artist|   13|\n",
      "|     F|     educator|   26|\n",
      "|     F|     engineer|    2|\n",
      "|     F|entertainment|    2|\n",
      "|     F|    executive|    3|\n",
      "|     F|   healthcare|   11|\n",
      "|     F|    homemaker|    6|\n",
      "|     F|       lawyer|    2|\n",
      "|     F|    librarian|   29|\n",
      "+------+-------------+-----+\n",
      "only showing top 10 rows\n",
      "\n"
     ]
    }
   ],
   "source": [
    "df.select(\"gender\", \"occupation\"). \\\n",
    "    groupby(\"gender\", \"occupation\"). \\\n",
    "    count(). \\\n",
    "    orderBy(\"gender\", \"occupation\"). \\\n",
    "    show(10)"
   ]
  },
  {
   "cell_type": "code",
   "execution_count": 25,
   "metadata": {},
   "outputs": [
    {
     "name": "stdout",
     "output_type": "stream",
     "text": [
      "+-----------------+---+---+\n",
      "|occupation_gender|  F|  M|\n",
      "+-----------------+---+---+\n",
      "|        scientist|  3| 28|\n",
      "|          student| 60|136|\n",
      "|           writer| 19| 26|\n",
      "|         salesman|  3|  9|\n",
      "|          retired|  1| 13|\n",
      "|    administrator| 36| 43|\n",
      "|       programmer|  6| 60|\n",
      "|           doctor|  0|  7|\n",
      "|        homemaker|  6|  1|\n",
      "|        executive|  3| 29|\n",
      "+-----------------+---+---+\n",
      "only showing top 10 rows\n",
      "\n"
     ]
    }
   ],
   "source": [
    "df.stat.crosstab(\"occupation\", \"gender\").show(10)"
   ]
  },
  {
   "cell_type": "code",
   "execution_count": null,
   "metadata": {
    "collapsed": true
   },
   "outputs": [],
   "source": []
  }
 ],
 "metadata": {
  "kernelspec": {
   "display_name": "Python 3",
   "language": "python",
   "name": "python3"
  },
  "language_info": {
   "codemirror_mode": {
    "name": "ipython",
    "version": 3
   },
   "file_extension": ".py",
   "mimetype": "text/x-python",
   "name": "python",
   "nbconvert_exporter": "python",
   "pygments_lexer": "ipython3",
   "version": "3.6.3"
  }
 },
 "nbformat": 4,
 "nbformat_minor": 2
}
